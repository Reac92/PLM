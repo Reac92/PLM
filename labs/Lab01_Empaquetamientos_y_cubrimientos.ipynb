{
 "cells": [
  {
   "cell_type": "markdown",
   "metadata": {},
   "source": [
    "# Instrucciones.\n",
    "\n",
    "En el laboratorio realice las siguientes tareas\n",
    "\n",
    "* Complete la celda \"Datos grupo\".\n",
    "* Lea el enunciado.\n",
    "* Complete los ejercicios 1, 2 y 3.\n",
    "* Envie el archivo .ipynb por el modulo de tareas de ucursos en la TAREA: Laboratorio 1 presencial \n",
    "* Plazo de entrega:  Miércoles 15 de abril a las 18:00\n",
    "\n",
    "\n",
    "La parte no presencial del laboratorio corresponde a los ejercicios 4, 5 y 6\n",
    "\n",
    "* Complete todos los ejercicios\n",
    "* Envie el archivo .ipynb por el modulo de tareas de ucursos en la TAREA: Laboratorio 1 completo\n",
    "* Plazo de entrega: Viernes 17 de abril a las 18:00\n",
    "\n",
    "\n"
   ]
  },
  {
   "cell_type": "markdown",
   "metadata": {},
   "source": [
    "# Datos grupo\n",
    "\n",
    "Escriba en esta celda el nombre de cada integrante de su grupo.\n",
    "\n",
    "- Integrante 1: XXX\n",
    "\n",
    "- Integrante 2: YYY...\n"
   ]
  },
  {
   "cell_type": "markdown",
   "metadata": {},
   "source": [
    "# Empaquetamiento y cubrimiento de figuras en una matriz\n",
    "\n",
    "Sea $M$ un tablero de tamaño $N\\times N$. Una figura $F$ es simplemente un subconjunto de celdas de $M$.\n",
    "Por ejemplo, la figura $F=\\{(2;1),(2;2),(2;3),(3;3)\\}$, dibujada abajo para $N=4$ representa una figura similar a una J rotada."
   ]
  },
  {
   "cell_type": "markdown",
   "metadata": {},
   "source": [
    "\n",
    "<table style=\"border-collapse:collapse;border-spacing:0\" class=\"tg\"><tr><th style=\"font-family:Arial, sans-serif;font-size:30px;font-weight:normal;padding:10px 10px;border-style:solid;border-width:1px;overflow:hidden;word-break:normal;border-color:#000000;text-align:left;vertical-align:top\"></th><th style=\"font-family:Arial, sans-serif;font-size:30px;font-weight:normal;padding:10px 10px;border-style:solid;border-width:1px;overflow:hidden;word-break:normal;border-color:#000000;text-align:left;vertical-align:top\"></th><th style=\"font-family:Arial, sans-serif;font-size:30px;font-weight:normal;padding:10px 10px;border-style:solid;border-width:1px;overflow:hidden;word-break:normal;border-color:#000000;text-align:left;vertical-align:top\"></th><th style=\"font-family:Arial, sans-serif;font-size:30px;font-weight:normal;padding:10px 10px;border-style:solid;border-width:1px;overflow:hidden;word-break:normal;border-color:#000000;text-align:left;vertical-align:top\"></th></tr><tr><td style=\"font-family:Arial, sans-serif;font-size:30px;padding:10px 10px;border-style:solid;border-width:1px;overflow:hidden;word-break:normal;border-color:#000000;background-color:#c0c0c0;color:#ffffff;text-align:left;vertical-align:top\"></td><td style=\"font-family:Arial, sans-serif;font-size:30px;padding:10px 10px;border-style:solid;border-width:1px;overflow:hidden;word-break:normal;border-color:#000000;background-color:#c0c0c0;color:#ffffff;text-align:left;vertical-align:top\"></td><td style=\"font-family:Arial, sans-serif;font-size:30px;padding:10px 10px;border-style:solid;border-width:1px;overflow:hidden;word-break:normal;border-color:#000000;background-color:#c0c0c0;color:#ffffff;text-align:left;vertical-align:top\"></td><td style=\"font-family:Arial, sans-serif;font-size:30px;padding:10px 10px;border-style:solid;border-width:1px;overflow:hidden;word-break:normal;border-color:#000000;text-align:left;vertical-align:top\"></td></tr><tr><td style=\"font-family:Arial, sans-serif;font-size:30px;padding:10px 10px;border-style:solid;border-width:1px;overflow:hidden;word-break:normal;border-color:#000000;text-align:left;vertical-align:top\"></td><td style=\"font-family:Arial, sans-serif;font-size:30px;padding:10px 10px;border-style:solid;border-width:1px;overflow:hidden;word-break:normal;border-color:#000000;text-align:left;vertical-align:top\"></td><td style=\"font-family:Arial, sans-serif;font-size:30px;padding:10px 10px;border-style:solid;border-width:1px;overflow:hidden;word-break:normal;border-color:#000000;background-color:#c0c0c0;color:#000000;text-align:left;vertical-align:top\"></td><td style=\"font-family:Arial, sans-serif;font-size:30px;padding:10px 10px;border-style:solid;border-width:1px;overflow:hidden;word-break:normal;border-color:#000000;text-align:left;vertical-align:top\"></td></tr><tr><td style=\"font-family:Arial, sans-serif;font-size:30px;padding:10px 10px;border-style:solid;border-width:1px;overflow:hidden;word-break:normal;border-color:#000000;text-align:left;vertical-align:top\"></td><td style=\"font-family:Arial, sans-serif;font-size:30px;padding:10px 10px;border-style:solid;border-width:1px;overflow:hidden;word-break:normal;border-color:#000000;text-align:left;vertical-align:top\"></td><td style=\"font-family:Arial, sans-serif;font-size:30px;padding:10px 10px;border-style:solid;border-width:1px;overflow:hidden;word-break:normal;border-color:#000000;text-align:left;vertical-align:top\"></td><td style=\"font-family:Arial, sans-serif;font-size:30px;padding:10px 10px;border-style:solid;border-width:1px;overflow:hidden;word-break:normal;border-color:#000000;text-align:left;vertical-align:top\"></td></tr></table>"
   ]
  },
  {
   "cell_type": "markdown",
   "metadata": {},
   "source": [
    "En este laboratorio estudiaremos tres problemas muy similares sobre ubicar figuras en un tablero dado.\n",
    "\n",
    "### Indicación: \n",
    "Durante el laboratorio guardaremos las figuras como arreglos de pares ordenados (arreglos de tuplas).\n",
    "La función ```plot_figure```, definida más abajo, le permitirá graficar figuras pequeñas (es lento la primera vez que lo ejecuta)"
   ]
  },
  {
   "cell_type": "markdown",
   "metadata": {},
   "source": [
    "### Instalar nuevos paquetes\n",
    "\n",
    "Usar `Pkg.add`, si no funciona usar `Pkg.build`. Se sugiere instalar en la terminal de `julia` ya que `Jupyter Notebook` suele fallar.\n",
    "\n",
    "```julia\n",
    "using Pkg\n",
    "Pkg.add(\"Gadfly\")\n",
    "Pkg.add(\"Distributions\")\n",
    "```"
   ]
  },
  {
   "cell_type": "code",
   "execution_count": null,
   "metadata": {},
   "outputs": [],
   "source": [
    "#Importar paquetes\n",
    "using Gadfly\n",
    "using Distributions\n",
    "using JuMP, Gurobi"
   ]
  },
  {
   "cell_type": "code",
   "execution_count": null,
   "metadata": {},
   "outputs": [],
   "source": [
    "function plot_figure(N, F)\n",
    "    M = zeros(N,N)\n",
    "    for (i,j) in F\n",
    "       M[i,j] = 1 \n",
    "    end\n",
    "    Gadfly.spy(M)\n",
    "end"
   ]
  },
  {
   "cell_type": "code",
   "execution_count": null,
   "metadata": {},
   "outputs": [],
   "source": [
    "# Graficar una figura de ejemplo\n",
    "F0=[(2, 1), (2,2), (2,3), (3,3)]\n",
    "plot_figure(4,F0)"
   ]
  },
  {
   "cell_type": "markdown",
   "metadata": {},
   "source": [
    "# Ejercicio 1 (presencial)\n",
    "\n",
    "Consideremos los siguientes problemas\n",
    "\n",
    "### Problema 1: Empaquetamiento de figuras.\n",
    "\n",
    "INPUT: $N$\n",
    "\n",
    "$\\qquad \\text{Un conjunto de figuras } F[1],F[2],..., F[m]$\n",
    "\n",
    "$\\qquad \\text{Pesos no negativos } w_1, w_2, ..., w_m$\n",
    "       \n",
    "Tarea: Un **empaquetamiento** es un conjunto de figuras que se puede ubicar simultáneamente en el tablero $M$ sin superponerse.\n",
    "Suponiendo que el peso de $F[i]$ es $w_i$, encuentre el empaquetamiento de figuras de **mayor** peso posible.\n",
    "\n",
    "\n",
    "### Problema 2: Cubrimiento del tablero por figuras\n",
    "\n",
    "INPUT: $N$\n",
    "\n",
    "$\\qquad \\text{Un conjunto de figuras } F[1],F[2],..., F[m]$\n",
    "\n",
    "$\\qquad \\text{Pesos no negativos } w_1, w_2, ..., w_m$\n",
    "\n",
    "Tarea:  Un **cubrimiento** es un conjunto de figuras, cuya unión cubre totalmente el tablero $M$ (aquí se permiten superposiciones). Suponiendo que el peso de $F[i]$ es $w_i$, encuentre el cubrimiento de figuras de **menor** peso total posible."
   ]
  },
  {
   "cell_type": "markdown",
   "metadata": {},
   "source": [
    "#### El PLE para el problema 1 se encuentra abajo, \n",
    "\n",
    "\\begin{align}\n",
    "\\max& \\sum_{k \\in [m]}w_kx_k\\\\\n",
    "& \\sum_{k \\in [m]: (i,j) \\in F[k]}x_{k}\\leq 1, \\quad \\forall (i,j) \\in [N]\\times [N]\\\\\n",
    "& x_{k}\\in\\{0,1\\} \\quad \\quad \\forall k \\in [m]\n",
    "\\end{align}\n"
   ]
  },
  {
   "cell_type": "markdown",
   "metadata": {},
   "source": [
    "#### Escriba a continuacion el PLE para el problema 2.\n",
    "\n",
    "\\begin{align}\n",
    "\\text{ ESCRIBA }\\\\\n",
    "\\text{ EL }\\\\\n",
    "\\text{ PLE }\n",
    "\\end{align}\n",
    "\n",
    "\n",
    "\n"
   ]
  },
  {
   "cell_type": "markdown",
   "metadata": {},
   "source": [
    "# Ejercicio 2 (presencial)\n",
    "\n",
    "En este problema debe escribir una función que reciba como entrada el triple $(N,F,w)$ donde $N$ es el tamaño del tablero, $F$ es un arreglo que contiene algunas figuras, y $w$ es un arreglo del mismo largo con los pesos correspondientes.\n",
    "La función debe resolver el PLE 1 descrito en la parte anterior, y debe devolver el valor objetivo y una lista de índices $J$ tal que la colección $\\{F[j]: j \\in J\\}$ es un empaquetamiento del valor anterior.\n",
    "\n",
    "Puede completar la plantilla de la siguiente celda\n"
   ]
  },
  {
   "cell_type": "code",
   "execution_count": null,
   "metadata": {},
   "outputs": [],
   "source": [
    "function empaquetamiento(N, F, w)\n",
    "    #tamaño de los arreglos\n",
    "    m = size(F)[1]\n",
    "     \n",
    "    #crear modelo\n",
    "    packing = Model()\n",
    " \n",
    "    #setear solver y atributos\n",
    "    set_optimizer(packing, Gurobi.Optimizer)\n",
    "    set_optimizer_attributes(packing, \"Presolve\"=>0, \"OutputFlag\"=>false)\n",
    "    \n",
    "    #crear variables\n",
    "    @variable()\n",
    "    \n",
    "    #crear restricciones\n",
    "    @constraint()\n",
    "    \n",
    "    #crear función objetivo\n",
    "    @objective()\n",
    "    \n",
    "    #resolver\n",
    "    optimize!()\n",
    "            \n",
    "    #estado de término\n",
    "    term_status = termination_status(packing)\n",
    "    is_optimal = term_status == MOI.OPTIMAL\n",
    "        \n",
    "    #imprimir solución si se alcanzo el óptimo\n",
    "    if is_optimal\n",
    "        #encontrar valor\n",
    "        valor = \n",
    "        #encontrar conjunto de índices \n",
    "        indices = \n",
    "        #HINT: findall(isone, p) devuelve la lista de indices del vector p que son 1.\n",
    "        return valor, indices\n",
    "    end\n",
    "end"
   ]
  },
  {
   "cell_type": "markdown",
   "metadata": {},
   "source": [
    "# Ejercicio 3 (presencial)\n",
    "\n",
    "Considere las 3 instancias $(N,F,w)$ generadas en las celda siguiente (se incluye el valor objetivo de la primera instancia para que verifique su respuesta). Pruebe su método en las 3 instancias e imprima la solución de la misma (el valor y la lista de índice de las figuras usadas).\n",
    "(pd: Si necesita mostrar en pantalla un vector `mi_lista` más largo que el largo máximo de caracteres permitido, puede usar \n",
    "`show(IOContext(stdout, :limit=>false), mi_lista)`\n"
   ]
  },
  {
   "cell_type": "markdown",
   "metadata": {},
   "source": [
    "| instancia | valor óptimo |\n",
    "|:---------:|:------------:|\n",
    "|     1     |      24      |\n",
    "|     2     |      68      |\n",
    "|     3     |      234     |"
   ]
  },
  {
   "cell_type": "code",
   "execution_count": null,
   "metadata": {},
   "outputs": [],
   "source": [
    " #Instancia 1\n",
    " N1=4\n",
    " F1=[ [(3, 4), (4, 3), (4, 4)], [(1, 1), (1, 2), (2, 2)], [(2, 1), (2, 2), (3, 2)], [(2, 3), (3, 1), (3, 2), (4, 1)], [(2, 4)], [(1, 4), (2, 3), (2, 4), (3, 4)],  [(1, 3), (2, 2), (3, 2)],  [(4, 2)],  [(3, 3), (4, 4)]]\n",
    " w1=[6 6 6 8 2 8 6 2 4]\n",
    "#La instancia 1 tiene empaquetamiento óptimo 24\n",
    "\n",
    " #Instancia 2\n",
    " N2 = 10\n",
    " F2 = [[(1, 6), (2, 7), (3, 8)], [(4, 7), (5, 6), (5, 7), (5, 8)], [(8, 8), (9, 9), (10, 8), (10, 9)], [(7, 10), (8, 10), (9, 10)], [(1, 1), (1, 2), (2, 2), (3, 3)], [(1, 3), (2, 2), (3, 2)], [(1, 5), (1, 6), (1, 7), (2, 3), (2, 4)], [(2, 2), (2, 6), (3, 1), (3, 2), (3, 3), (3, 4), (3, 5), (4, 1), (4, 2), (4, 3)], [(9, 6), (9, 7), (10, 6), (10, 7)], [(4, 3), (5, 1), (5, 2), (5, 4), (6, 1), (6, 3), (7, 1), (7, 2)], [(1, 4), (2, 4)], [(5, 2), (5, 3), (6, 2), (6, 4), (7, 3), (7, 4), (7, 5), (8, 5)], [(1, 9), (1, 10), (2, 7), (2, 8), (2, 9), (3, 6), (4, 5), (5, 3), (5, 4)], [(9, 8)], [(6, 10)], [(8, 3), (9, 4), (9, 5), (10, 4)], [(4, 6)], [(4, 6), (5, 5)], [(3, 7), (4, 8)], [(2, 9), (3, 8), (3, 9), (3, 10), (4, 7), (4, 8), (4, 9), (4, 10), (5, 9), (5, 10)], [(4, 4)], [(6, 7), (7, 6), (7, 7), (7, 8), (8, 8), (9, 8), (10, 8), (10, 9), (10, 10)], [(8, 2), (8, 3), (8, 4), (9, 1), (9, 3), (9, 4), (9, 5), (10, 3), (10, 4)], [(3, 5), (4, 4), (5, 5), (6, 6)], [(7, 2), (7, 3), (8, 4), (9, 3), (9, 4), (10, 2), (10, 3), (10, 4)], [(1, 8), (2, 8), (2, 9), (3, 9), (3, 10), (4, 10), (5, 9), (6, 9), (7, 10), (8, 10)], [(8, 6), (9, 5), (9, 6), (10, 5)], [(3, 10), (4, 10), (5, 10), (6, 9), (7, 9)], [(6, 5), (7, 4), (8, 4)], [(5, 5), (5, 6), (5, 7), (6, 5), (6, 6), (7, 6), (7, 7), (8, 7)], [(8, 1)], [(5, 9), (6, 8), (6, 9), (6, 10)], [(1, 1), (1, 2), (1, 3), (1, 4), (2, 1), (2, 2), (2, 3), (3, 2)], [(8, 8), (8, 9), (8, 10), (9, 9), (9, 10), (10, 9)], [(2, 5), (2, 9), (3, 4), (3, 6), (3, 7), (3, 8), (4, 5)], [(9, 2)], [(2, 9), (2, 10), (3, 10), (4, 7), (4, 8), (4, 9), (5, 7), (5, 8), (6, 6), (7, 5)], [(3, 2), (4, 2), (5, 1), (6, 2), (7, 1), (8, 1), (9, 1), (10, 1)]]\n",
    " w2 = [3, 4, 4, 3, 4, 3, 5, 10, 4, 8, 2, 8, 9, 1, 1, 4, 1, 2, 2, 10, 1, 9, 9, 4, 8, 10, 4, 5, 3, 8, 1, 4, 8, 6, 7, 1, 10, 8]\n",
    " \n",
    "#Instancia 3\n",
    " N3 = 20\n",
    " F3 = [[(9, 5), (9, 7), (9, 10), (10, 4), (10, 5), (10, 6), (10, 9), (10, 10), (11, 6), (11, 7), (11, 8), (11, 11), (12, 8), (12, 11), (12, 12)], [(8, 16), (9, 15), (9, 16), (9, 17)], [(16, 8), (17, 8), (17, 9), (17, 10), (17, 11), (17, 12), (17, 13), (18, 8), (18, 9), (18, 12), (19, 8), (19, 11)], [(8, 19), (8, 20), (9, 19), (9, 20), (10, 19), (10, 20), (11, 17), (11, 18), (11, 19), (11, 20), (12, 17), (12, 19), (13, 18), (14, 17)], [(3, 1), (4, 1), (4, 2), (4, 3), (5, 3), (5, 4), (6, 3), (6, 4), (7, 3), (7, 4), (8, 3), (8, 4), (9, 3)], [(5, 8), (6, 6), (6, 7), (7, 6), (7, 7)], [(9, 5), (9, 6), (10, 4), (10, 5), (10, 6), (11, 4), (12, 5), (13, 6), (13, 7), (14, 6), (15, 7), (16, 5), (16, 7), (17, 4), (17, 6), (18, 4), (18, 5), (19, 4)], [(12, 3), (13, 2), (13, 4), (14, 1), (14, 2), (14, 3), (14, 4), (14, 5), (15, 1), (15, 2), (15, 3), (15, 5)], [(4, 18), (5, 16), (5, 17), (5, 18), (6, 17), (6, 18), (7, 13), (7, 16), (7, 17), (7, 18), (7, 19), (7, 20), (8, 13), (8, 14), (8, 15), (8, 16), (8, 17), (8, 19), (9, 14)], [(3, 8), (4, 7), (4, 8), (5, 8), (6, 7)], [(2, 10), (2, 11), (3, 10), (3, 11), (3, 12), (3, 13), (4, 11), (4, 12), (4, 14), (5, 12), (5, 13)], [(13, 12), (13, 13), (13, 14), (13, 15), (14, 13), (14, 14), (14, 15), (14, 16), (15, 15), (15, 16), (16, 14), (16, 15), (16, 16)], [(3, 7), (4, 6), (4, 7), (4, 10), (5, 8), (5, 9)], [(13, 8), (14, 7)], [(1, 1), (1, 2), (1, 3), (1, 4), (1, 5), (2, 1), (2, 2), (2, 3), (2, 4), (2, 5), (3, 2), (3, 3)], [(16, 3), (16, 4), (16, 5), (16, 6), (17, 2), (17, 5), (18, 1), (18, 2), (18, 5), (18, 7), (18, 8), (18, 9), (19, 2), (19, 5), (19, 6), (19, 8), (19, 10), (20, 9)], [(2, 18), (3, 18), (3, 19), (4, 19), (4, 20), (5, 20), (6, 19), (7, 19), (8, 20), (9, 20), (10, 19), (11, 20), (12, 19), (13, 17), (13, 18), (14, 18)], [(8, 9), (9, 8), (10, 9), (11, 10)], [(12, 7), (13, 6), (14, 5), (15, 4), (15, 5), (16, 4), (16, 5), (16, 6), (17, 4), (17, 6), (18, 4), (18, 5), (19, 5)], [(15, 16), (15, 17), (16, 15), (16, 16), (16, 17), (17, 16), (17, 18), (18, 15), (18, 17), (18, 18), (18, 19), (19, 15), (19, 16), (19, 17), (19, 18), (20, 16), (20, 17)], [(18, 11), (19, 12), (19, 13), (20, 12), (20, 13), (20, 14)], [(8, 12), (8, 13), (9, 12), (9, 13), (10, 14), (10, 15), (11, 14), (11, 15), (12, 15)], [(5, 1), (5, 2), (6, 1), (6, 2), (7, 1), (8, 1), (9, 2), (10, 1), (10, 2), (10, 3), (11, 1), (11, 2)], [(1, 16), (1, 17), (1, 18), (2, 16), (3, 15), (4, 14), (5, 13), (5, 14), (6, 14), (6, 15), (7, 15), (8, 16), (9, 16), (10, 17)], [(13, 8), (13, 9), (13, 10), (14, 5), (14, 6), (14, 7), (14, 9), (14, 10), (15, 4), (15, 5), (15, 7), (16, 6), (17, 5)], [(2, 4), (3, 3), (3, 4), (4, 3), (4, 4), (5, 2), (5, 3), (6, 2), (6, 3), (7, 1), (7, 2), (7, 3), (8, 1), (9, 1), (9, 2), (10, 2)], [(5, 11), (5, 12), (6, 11), (6, 12), (7, 12), (8, 12), (8, 13), (9, 12), (9, 13), (10, 12)], [(11, 17), (11, 18), (12, 17), (12, 18), (13, 16), (13, 17), (14, 14), (14, 15), (15, 13)], [(19, 7)], [(15, 16), (15, 20), (16, 12), (16, 13), (16, 15), (16, 16), (16, 17), (16, 19), (16, 20), (17, 14), (17, 18)], [(6, 18), (6, 19), (7, 17), (7, 19), (8, 18), (8, 19), (8, 20), (9, 18), (10, 18), (10, 19), (11, 17), (11, 18), (11, 19), (11, 20), (12, 18), (12, 19), (13, 17), (13, 18), (14, 19)], [(6, 13)], [(1, 16), (1, 17), (2, 15), (2, 17), (3, 16), (4, 15), (5, 16), (5, 17)], [(12, 14), (13, 14)], [(18, 14)], [(1, 12), (1, 14), (2, 13), (2, 15), (3, 15), (3, 16), (4, 15)], [(11, 5), (12, 4)], [(14, 9), (14, 10), (15, 8), (15, 9), (16, 9), (16, 10), (17, 7), (17, 9), (18, 6), (18, 7), (18, 8), (19, 6), (19, 7), (19, 8), (20, 8)], [(10, 2), (11, 2), (12, 2), (13, 1), (14, 1), (14, 2), (15, 1), (15, 2), (16, 2), (16, 3), (17, 1)], [(19, 5), (20, 4), (20, 5), (20, 6), (20, 7), (20, 8), (20, 9)], [(4, 13), (4, 14), (4, 20), (5, 14), (5, 15), (5, 19), (5, 20), (6, 16), (6, 20), (7, 17), (7, 18), (7, 19), (8, 18), (8, 19), (8, 20), (9, 19)], [(16, 12), (16, 15), (16, 16), (17, 12), (17, 13), (17, 14), (17, 15), (17, 16), (18, 15), (18, 16), (19, 13), (19, 14), (19, 15), (20, 14), (20, 15)], [(5, 8), (5, 10), (6, 3), (6, 4), (6, 7), (6, 8), (6, 9), (6, 10), (7, 3), (7, 4), (7, 5), (7, 7), (7, 9), (7, 10), (8, 4), (8, 5), (8, 6), (8, 8), (8, 9), (9, 5)], [(3, 20)], [(7, 11), (8, 7), (8, 8), (8, 11), (8, 12), (9, 8), (9, 9), (9, 10), (9, 11), (10, 8), (10, 9), (10, 10)], [(11, 4), (12, 4), (13, 3), (13, 5), (14, 4)], [(3, 5)], [(1, 8), (1, 9), (2, 7), (2, 8), (2, 9), (2, 10), (3, 8), (3, 9), (3, 10), (3, 11), (4, 8), (4, 9)], [(5, 5)], [(2, 6), (2, 8), (2, 9), (3, 6), (3, 7), (3, 8), (3, 10), (4, 9), (4, 10), (4, 11)], [(11, 7), (11, 8), (12, 6), (13, 5), (14, 6), (15, 6)], [(16, 14), (17, 14), (17, 15), (18, 16), (18, 17), (18, 18), (18, 19), (19, 19), (19, 20), (20, 19)], [(10, 15), (11, 13), (11, 14), (12, 13), (12, 14), (13, 14)], [(10, 10), (11, 10), (12, 11), (12, 13), (13, 12), (13, 14), (14, 15), (15, 14), (16, 14), (17, 13), (18, 11), (18, 12), (18, 13), (18, 14), (19, 11), (19, 12), (19, 13), (20, 10)], [(7, 18), (7, 20), (8, 17), (8, 18), (8, 19), (9, 16), (10, 15), (10, 16)], [(15, 5), (15, 6), (15, 10), (15, 12), (16, 5), (16, 10), (16, 11), (16, 12), (16, 13), (17, 5), (17, 9), (17, 13), (18, 6), (18, 7), (18, 9), (19, 8)], [(12, 15), (12, 16), (13, 15), (13, 17), (14, 16), (14, 17), (15, 16), (15, 18), (16, 15), (16, 16), (16, 17), (16, 19), (17, 15), (17, 16), (17, 17), (17, 18), (17, 19), (18, 16), (18, 19), (19, 20)], [(19, 13), (19, 15), (19, 16), (19, 20), (20, 14), (20, 17), (20, 18), (20, 19), (20, 20)], [(1, 19), (2, 19), (3, 19), (4, 17), (4, 18)], [(10, 11), (11, 10), (11, 12), (11, 13), (12, 10), (12, 11), (12, 12), (12, 13), (12, 14), (13, 11), (13, 12), (13, 13)], [(1, 17), (2, 17), (2, 18), (2, 19), (3, 16), (3, 17), (3, 19), (3, 20), (4, 16), (4, 17), (4, 18), (5, 16), (5, 17), (5, 18)], [(1, 7), (2, 5), (2, 6), (2, 7), (3, 6), (4, 5), (4, 7), (5, 5), (5, 6)], [(1, 6), (1, 7), (2, 7), (2, 8), (3, 7)], [(13, 6), (13, 7), (14, 8)], [(6, 12), (6, 13), (7, 13), (7, 14)], [(9, 19), (10, 18), (11, 19), (12, 18), (12, 19), (13, 19), (13, 20), (14, 19), (14, 20)], [(12, 20), (13, 20), (14, 19), (14, 20), (15, 19), (16, 18)], [(9, 8), (10, 7)], [(9, 3), (9, 4)], [(13, 6), (13, 7), (13, 10), (14, 7), (14, 8), (14, 9), (14, 10), (14, 11), (15, 7), (15, 8), (15, 9)], [(3, 6), (4, 6), (4, 7), (5, 6), (5, 7), (6, 6), (6, 7), (7, 8), (7, 9), (8, 10)], [(6, 5), (7, 4), (8, 5), (8, 6), (8, 7), (9, 6), (9, 7), (10, 7)], [(13, 3), (13, 4), (14, 2), (14, 3), (14, 4), (14, 5), (15, 1), (15, 2), (15, 3), (16, 1)], [(14, 11), (15, 10), (16, 8), (16, 9), (17, 8), (17, 9), (18, 4), (18, 5), (18, 8), (18, 9), (19, 3), (19, 4), (19, 5), (19, 6), (19, 7), (19, 8), (20, 5), (20, 8)], [(18, 3), (19, 3), (19, 5), (20, 4)], [(11, 7), (11, 8), (12, 8), (13, 8), (14, 9), (15, 9), (15, 10), (16, 8), (16, 9), (16, 10), (17, 9), (18, 10)], [(1, 13), (1, 14), (1, 15), (1, 16), (1, 17), (1, 19), (2, 14), (2, 16), (2, 17), (2, 18), (2, 19), (2, 20), (3, 19), (4, 18), (4, 19), (5, 18), (5, 19), (6, 18)], [(11, 10), (12, 9), (12, 10), (12, 11), (13, 9), (13, 10)], [(17, 7), (17, 8), (18, 5), (18, 6), (18, 7), (18, 8), (18, 9), (19, 4), (19, 6), (19, 7), (19, 8), (19, 9), (19, 10), (20, 5), (20, 9), (20, 11)], [(16, 19), (17, 19), (17, 20), (18, 19), (18, 20), (19, 17), (19, 18), (19, 19), (19, 20), (20, 17), (20, 18), (20, 19), (20, 20)], [(2, 12), (3, 12)], [(1, 10), (2, 11), (3, 9), (3, 10), (3, 11), (4, 8), (4, 9), (4, 10), (4, 11), (5, 10), (5, 11)], [(7, 11), (8, 10), (8, 11), (8, 12), (9, 9), (9, 10), (9, 11), (9, 12), (9, 13), (10, 13)], [(15, 1), (16, 1), (17, 1), (17, 3), (17, 5), (18, 2), (18, 4), (18, 6), (19, 3), (19, 4), (19, 5), (19, 6), (19, 7), (20, 3), (20, 4), (20, 5), (20, 6)], [(15, 6), (15, 7), (16, 8), (17, 3), (17, 4), (17, 5), (17, 6), (17, 7), (18, 4), (18, 5), (18, 6), (19, 3), (19, 4), (20, 2), (20, 3)], [(1, 20)], [(7, 4), (8, 3), (8, 5), (9, 3), (9, 4), (9, 5), (10, 3), (10, 4), (10, 5), (11, 2), (11, 3), (11, 4), (11, 5), (12, 1), (12, 2), (13, 2), (13, 3)], [(2, 14), (2, 15), (3, 12), (3, 13), (3, 14), (3, 15), (3, 16), (4, 12), (4, 15)], [(20, 1)], [(14, 5), (15, 4), (15, 7), (15, 8), (15, 9), (15, 11), (16, 4), (16, 5), (16, 6), (16, 8), (16, 10), (16, 12), (17, 5), (17, 6), (\n",
    "17, 7), (17, 11), (18, 6)], [(4, 2), (5, 1), (5, 3), (6, 2), (7, 3), (8, 2)], [(1, 7), (1, 8), (1, 9), (1, 10), (1, 11), (2, 5), (2, 6), (2, 7), (2, 9), (3, 5), (3, 6), (3, 8), (4, 5), (4, 6), (4, 7)], [(15, 6), (16, 5), (16, 6), (16, 7), (17, 4), (17, 5), (17, 6), (18, 3), (18, 5), (18, 6), (19, 1), (19, 2), (19, 3), (19, 4), (19, 5), (19, 6), (19, 7), (20, 2), (20, 4), (20, 5)], [(11, 9)], [(5, 13), (5, 15), (6, 14), (6, 15), (7, 14), (8, 14), (8, 15), (8, 16), (9, 13), (9, 14), (9, 16), (9, 17), (10, 15), (11, 16)], [(14, 12), (14, 13), (15, 12), (15, 14), (15, 15), (16, 14), (16, 15), (17, 15), (18, 14), (19, 14), (19, 15), (20, 14), (20, 15)]]\n",
    " w3 = [15, 4, 12, 14, 13, 5, 18, 12, 19, 5, 11, 13, 6, 2, 12, 18, 16, 4, 13, 17, 6, 9, 12, 14, 13, 16, 10, 9, 1, 11, 19, 1, 8, 2, 1, 7, 2, 15, 11, 7, 16, 15, 20, 1, 12, 5, 1, 12, 1, 10, 6, 10, 6, 18, 8, 16, 20, 9, 5, 12, 14, 9, 5, 3, 4, 9, 6, 2, 2, 11, 10, 8, 10, 18, 4, 12, 18, 6, 16, 13, 2, 11, 10, 17, 15, 1, 17, 9, 1, 17, 6, 15, 20, 1, 14, 13]\n",
    ";"
   ]
  },
  {
   "cell_type": "code",
   "execution_count": null,
   "metadata": {},
   "outputs": [],
   "source": [
    "#Ejecutar empaquetamiento en instancia 1"
   ]
  },
  {
   "cell_type": "code",
   "execution_count": null,
   "metadata": {},
   "outputs": [],
   "source": [
    "#Ejecutar empaquetamiento en instancia 2"
   ]
  },
  {
   "cell_type": "code",
   "execution_count": null,
   "metadata": {},
   "outputs": [],
   "source": [
    "#Ejecutar empaquetamiento en instancia 3"
   ]
  },
  {
   "cell_type": "markdown",
   "metadata": {},
   "source": [
    "\n",
    "# Ejercicio 4 (no presencial)\n",
    "\n",
    "Escriba una función `cubrimiento(N, F, w)` similar a la del ejercicio 2 para resolver el problema de cubrimiento de peso mínimo.\n",
    "En el caso que la instancia no admita cubrimiento, su función debe imprimir a pantalla la palabra `\"Infactible\"` y devolver null (`return nothing, nothing`)\n",
    "\n",
    "Además, pruébela en las 3 instancias del ejercicio 3 e imprima sus resultados."
   ]
  },
  {
   "cell_type": "markdown",
   "metadata": {},
   "source": [
    "| instancia | valor óptimo |\n",
    "|:---------:|:------------:|\n",
    "|     1     |      46      |\n",
    "|     2     |      143     |\n",
    "|     3     |      750     |\n"
   ]
  },
  {
   "cell_type": "code",
   "execution_count": null,
   "metadata": {},
   "outputs": [],
   "source": [
    "function cubrimiento(N, F, w) \n",
    "    #tamaño de los arreglos\n",
    "    m = size(F)[1]\n",
    "     \n",
    "    #crear modelo\n",
    "    covering = Model()\n",
    " \n",
    "    #setear solver y atributos\n",
    "    set_optimizer(covering, Gurobi.Optimizer)\n",
    "    set_optimizer_attributes(covering, \"Presolve\"=>0, \"OutputFlag\"=>false)\n",
    "    \n",
    "    #crear variables\n",
    "    @variable()\n",
    "    \n",
    "    #crear restricciones\n",
    "    @constraint()\n",
    "    \n",
    "    #crear función objetivo\n",
    "    @objective()\n",
    "    \n",
    "    #resolver\n",
    "    optimize!()\n",
    "            \n",
    "    #estado de término\n",
    "    term_status = termination_status(covering)\n",
    "    is_optimal = term_status == MOI.OPTIMAL\n",
    "        \n",
    "    #imprimir solución si se alcanzo el óptimo\n",
    "    if is_optimal\n",
    "        #encontrar valor\n",
    "        valor = \n",
    "        #encontrar conjunto de índices \n",
    "        indices = \n",
    "        return valor, indices\n",
    "    end\n",
    "        else\n",
    "        #imprimir \"es infactible\" y devolver null\n",
    "        return ...\n",
    "end"
   ]
  },
  {
   "cell_type": "code",
   "execution_count": null,
   "metadata": {},
   "outputs": [],
   "source": [
    "#Ejecutar cubrimiento en instancia 1"
   ]
  },
  {
   "cell_type": "code",
   "execution_count": null,
   "metadata": {},
   "outputs": [],
   "source": [
    "#Ejecutar cubrimiento en instancia 2"
   ]
  },
  {
   "cell_type": "code",
   "execution_count": null,
   "metadata": {},
   "outputs": [],
   "source": [
    "#Ejecutar cubrimiento en instancia 3"
   ]
  },
  {
   "cell_type": "markdown",
   "metadata": {},
   "source": [
    "# Ejercicio 5 (no presencial)\n",
    "\n",
    "Considere ahora el problema de empaquetar la mayor cantidad de tetrominos (figuras de tetris), en un tablero de $N\\times N$ \n",
    "que ya tiene algunas celdas ocupadas (y por lo tanto, no se puede poner figuras de tetris que toquen esas celdas).\n",
    "\n",
    "Para simplificar su problema, el siguiente arreglo *Tetris* contiene las 19 piezas (incluyendo rotaciones) posibles en tetris, alineadas lo más arriba y a la izquierda posible.\n",
    "Los arreglos *alto* y *ancho* tienen los altos y anchos de dichas piezas.\n"
   ]
  },
  {
   "cell_type": "code",
   "execution_count": null,
   "metadata": {},
   "outputs": [],
   "source": [
    "#arreglo Tetris\n",
    "Tetris=[]\n",
    "push!(Tetris,[(1,1),(2,1),(3,1),(4,1)]) #I \n",
    "push!(Tetris,[(1,1),(1,2),(1,3),(1,4)]) #I + 180\n",
    "push!(Tetris,[(1,1),(1,2),(2,1),(2,2)]) #O\n",
    "push!(Tetris,[(1,1),(1,2),(1,3),(2,2)]) #T\n",
    "push!(Tetris,[(1,2),(2,2),(3,2),(2,1)]) #T + 90\n",
    "push!(Tetris,[(1,2),(2,1),(2,2),(2,3)]) #T + 180\n",
    "push!(Tetris,[(1,1),(2,1),(3,1),(2,2)]) #T + 270\n",
    "push!(Tetris,[(1,1),(2,1),(3,1),(3,2)]) #L\n",
    "push!(Tetris,[(1,1),(1,2),(1,3),(2,1)]) #L + 90\n",
    "push!(Tetris,[(1,1),(1,2),(2,2),(3,2)]) #L + 180\n",
    "push!(Tetris,[(1,3),(2,1),(2,2),(2,3)]) #L + 270\n",
    "push!(Tetris,[(1,2),(2,2),(3,1),(3,2)]) #J\n",
    "push!(Tetris,[(1,1),(2,1),(2,2),(2,3)]) #J + 90\n",
    "push!(Tetris,[(1,1),(1,2),(2,1),(3,1)]) #J + 180\n",
    "push!(Tetris,[(1,1),(1,2),(1,3),(2,3)]) #J + 270\n",
    "push!(Tetris,[(1,2),(1,3),(2,1),(2,2)]) #S\n",
    "push!(Tetris,[(1,1),(2,1),(2,2),(3,2)]) #S + 180\n",
    "push!(Tetris,[(1,1),(1,2),(2,2),(2,3)]) #Z \n",
    "push!(Tetris,[(1,2),(2,1),(2,2),(3,1)]) #Z + 180\n",
    "alto=zeros(Int8,19)\n",
    "ancho=zeros(Int8,19)\n",
    "for k in 1:19\n",
    "   alto[k]=maximum([i for (i,j) in Tetris[k]])\n",
    "   ancho[k]=maximum([j for (i,j) in Tetris[k]])\n",
    "end\n",
    "\n",
    "#puede ver las piezas descomentando las siguiente lineas\n",
    "#for i in 1:19\n",
    "#    display(plot_figure(4,Tetris[i]))\n",
    "#end"
   ]
  },
  {
   "cell_type": "markdown",
   "metadata": {},
   "source": [
    "Cada pieza se puede mover en el tablero y note que tiene una posicion máxima horizontal/vertical de modo de no salirse del tablero.\n",
    "Por ejemplo, para obtener la pieza Tetris[2] trasladada a la posición $(i,j)$\n",
    "usted puede moverla $i-1$ unidades a la derecha y $j-1$ hacia abajo. En Julia esto se puede hacer como sigue:"
   ]
  },
  {
   "cell_type": "code",
   "execution_count": null,
   "metadata": {},
   "outputs": [],
   "source": [
    "function mover(Q, i, j)\n",
    "   return [(a+i-1, b+j-1) for (a,b) in Q]\n",
    "end"
   ]
  },
  {
   "cell_type": "code",
   "execution_count": null,
   "metadata": {},
   "outputs": [],
   "source": [
    "mover(Tetris[2],2,3)"
   ]
  },
  {
   "cell_type": "markdown",
   "metadata": {},
   "source": [
    "En este problema debe escribir una función que reciba como entrada una matriz  booleana (sus casilleros contienen true / false) donde $M[i,j]$ es *true* si la celda $(i,j)$ ya está ocupado. \n",
    "\n",
    "La función debe encontrar el máximo número de piezas que puede empaquetar en los casilleros no ocupados de $M$, y debe devolver este número (valor objetivo) y una lista de las figuras trasladadas usadas.\n",
    "\n",
    "Por ejemplo, considere la matriz creada en la siguiente celda"
   ]
  },
  {
   "cell_type": "code",
   "execution_count": null,
   "metadata": {},
   "outputs": [],
   "source": [
    "M = Bool[0 0 0 0; 0 1 0 0; 0 0 1 0; 0 0 0 0]"
   ]
  },
  {
   "cell_type": "code",
   "execution_count": null,
   "metadata": {},
   "outputs": [],
   "source": [
    "#Una solución con 3 piezas corresponde a la lista\n",
    "[mover(Tetris[2],1,1), mover(Tetris[10],2,3), mover(Tetris[6],3,1)]"
   ]
  },
  {
   "cell_type": "code",
   "execution_count": null,
   "metadata": {},
   "outputs": [],
   "source": [
    "#Así que su programa podría entregar como salida\n",
    "\n",
    "[3, \n",
    "[[(1, 1), (1, 2), (1, 3), (1, 4)], [(2, 3), (2, 4), (3, 4), (4, 4)], [(3, 2), (4, 1), (4, 2), (4, 3)]]]"
   ]
  },
  {
   "cell_type": "code",
   "execution_count": null,
   "metadata": {},
   "outputs": [],
   "source": [
    "function empaqueta_tetris(M)\n",
    "    \"\"\"\n",
    "    La fución supone cargado el arreglo Tetris y arreglo con anchos y altos de las fichas\n",
    "    \"\"\"\n",
    "    #tamaño de la matriz\n",
    "    m = size(M)[1]\n",
    "     \n",
    "    #crear modelo\n",
    "    packing_tetris = Model()\n",
    " \n",
    "    #setear solver y atributos\n",
    "    set_optimizer(packing_tetris, Gurobi.Optimizer)\n",
    "    set_optimizer_attributes(packing_tetris, \"Presolve\"=>0, \"OutputFlag\"=>false)\n",
    "    \n",
    "    #crear variables \n",
    "    @variable()\n",
    "    \n",
    "    #crear restricciones\n",
    "    @constraint()\n",
    "    \n",
    "    #crear función objetivo\n",
    "    @objective()\n",
    "    \n",
    "    #resolver\n",
    "    optimize!()\n",
    "            \n",
    "    #estado de término\n",
    "    term_status = termination_status(packing_tetris)\n",
    "    is_optimal = term_status == MOI.OPTIMAL\n",
    "        \n",
    "    #imprimir solución si se alcanzo el óptimo\n",
    "    if is_optimal\n",
    "        #encontrar valor\n",
    "        valor = \n",
    "        #encontrar conjunto de índices \n",
    "        figuras = \n",
    "       \n",
    "        return valor, figuras\n",
    "    end\n",
    "end"
   ]
  },
  {
   "cell_type": "code",
   "execution_count": null,
   "metadata": {},
   "outputs": [],
   "source": [
    "# puede probar su método en la matriz M = Bool[0 0 0 0; 0 1 0 0; 0 0 1 0; 0 0 0 0] creada antes\n",
    "empaqueta_tetris(M)"
   ]
  },
  {
   "cell_type": "markdown",
   "metadata": {},
   "source": [
    "# Ejercicio 6 (no presencial)\n",
    "\n",
    "Pruebe su función en las siguientes 50 instancias de $10 \\times 10$ generadas al azar.\n",
    "Guarde su resultado en un arreglo `Salidas` (es decir `Salidas[i]` debe ser el arreglo con las dos salidas de su función)"
   ]
  },
  {
   "cell_type": "code",
   "execution_count": null,
   "metadata": {},
   "outputs": [],
   "source": [
    "# Generador de Instancias al azar\n",
    "Instancia=[]\n",
    "for i = 1:50\n",
    "    push!(Instancia,rand(Binomial(1, i/100),10,10))\n",
    "end"
   ]
  },
  {
   "cell_type": "code",
   "execution_count": null,
   "metadata": {},
   "outputs": [],
   "source": [
    "#ejemplo: \n",
    "Instancia[10]"
   ]
  },
  {
   "cell_type": "code",
   "execution_count": null,
   "metadata": {},
   "outputs": [],
   "source": [
    "# Ejecute en las 50 instancias el método empaqueta_tetris, guardando su salida en un arreglo T. Puede escribir una función para esto o correrlo directamente en esta celda\n"
   ]
  }
 ],
 "metadata": {
  "kernelspec": {
   "display_name": "Julia 1.3.1",
   "language": "julia",
   "name": "julia-1.3"
  },
  "language_info": {
   "file_extension": ".jl",
   "mimetype": "application/julia",
   "name": "julia",
   "version": "1.3.1"
  }
 },
 "nbformat": 4,
 "nbformat_minor": 2
}
