{
 "cells": [
  {
   "cell_type": "markdown",
   "metadata": {},
   "source": [
    "# SUDOKU\n",
    "\n",
    "Un tablero $M$ es una matriz $[N]^{N\\times N}$. Un conjunto de índices $B\\subset[N]\\times N$ es un **bloque** si todos los elementos $\\{M_{i,j}: (i,j) \\in B\\}$ son diferentes. El tablero es un **sudoku** si $N=n^{2}$ es un cuadrado perfecto y además, cada fila, cada columna y cada cuadrante son bloques. Aquí, un cuadrante es un conjunto de la forma $q^{(i,j)}=\\{(ni+a,nj+b): a,b \\in [n]\\}$ con $i,j \\in \\{0, 1, \\ldots, n-1\\}$, en otrasa palabras, los cuadrantes se obtienen al dividir el tablero $n^{2}$ por $n^{2}$ en subtableros de $n$ por $n$.\n",
    "\n",
    "En el **juego del sudoku** recibimos como entrada un sudoku incompleto, es decir, un tablero que podría tener algunos casilleros vacíos, representados con un 0. Podemos escribir un **PLE** que complete el tablero $M$ introduciendo variables binarias ${x_{ijk}: i,j,k \\in [N]}$, tal que $x_{ijk}=1$ si y solo si $M[i,j]=k$."
   ]
  },
  {
   "cell_type": "markdown",
   "metadata": {},
   "source": [
    "## 1. Escriba el conjunto lineal entero del sudoku\n",
    "Asuma como conocido todos los bloques $B$ de $M$."
   ]
  },
  {
   "cell_type": "markdown",
   "metadata": {},
   "source": [
    "\\begin{align}\n",
    "& \\underset{k\\in[N]}{\\sum}x_{ijk}=1, \\quad \\forall (i,j) \\in [N]\\times [N]\\\\\n",
    "& \\underset{(i,j)\\in B}{\\sum}x_{ijk}=1, \\quad \\forall k \\in [N]\\; \\forall B\\\\\n",
    "& x_{ijk}=1, \\quad \\quad  \\quad \\; \\forall (i,j,k) \\in [N]^{3}:M[i,j]=k\\\\\n",
    "& x_{ijk}\\in\\{0,1\\} \\quad \\quad \\forall(i,j,k) \\in [N]^{3}\n",
    "\\end{align}"
   ]
  },
  {
   "cell_type": "markdown",
   "metadata": {},
   "source": [
    "## 2.  Obtener bloques\n",
    "Cree una función que tome como entrada $n$ y retorne un array $B$ con todos los bloques de un tablero de dimensión $n^2$."
   ]
  },
  {
   "cell_type": "code",
   "execution_count": 1,
   "metadata": {},
   "outputs": [
    {
     "data": {
      "text/plain": [
       "get_blocks (generic function with 1 method)"
      ]
     },
     "execution_count": 1,
     "metadata": {},
     "output_type": "execute_result"
    }
   ],
   "source": [
    "function get_blocks(n)\n",
    "    N = n^2\n",
    "    #bloques\n",
    "    Blocks= []\n",
    "    #cuadrantes\n",
    "    for i in 0:n-1, j in 0:n-1\n",
    "        q = [(n*i+a, n*j+b) for a in 1:n, b in 1:n]\n",
    "        push!(Blocks,q)\n",
    "    end\n",
    "    #filas y columnas\n",
    "    for i in 1:N\n",
    "        r = [(i,j) for j in 1:N]\n",
    "        c = [(j,i) for j in 1:N]\n",
    "        push!(Blocks,r)\n",
    "        push!(Blocks,c)\n",
    "    end\n",
    "    return Blocks\n",
    "end"
   ]
  },
  {
   "cell_type": "code",
   "execution_count": 2,
   "metadata": {},
   "outputs": [
    {
     "data": {
      "text/plain": [
       "27-element Array{Any,1}:\n",
       " Tuple{Int64,Int64}[(1, 1) (1, 2) (1, 3); (2, 1) (2, 2) (2, 3); (3, 1) (3, 2) (3, 3)]      \n",
       " Tuple{Int64,Int64}[(1, 4) (1, 5) (1, 6); (2, 4) (2, 5) (2, 6); (3, 4) (3, 5) (3, 6)]      \n",
       " Tuple{Int64,Int64}[(1, 7) (1, 8) (1, 9); (2, 7) (2, 8) (2, 9); (3, 7) (3, 8) (3, 9)]      \n",
       " Tuple{Int64,Int64}[(4, 1) (4, 2) (4, 3); (5, 1) (5, 2) (5, 3); (6, 1) (6, 2) (6, 3)]      \n",
       " Tuple{Int64,Int64}[(4, 4) (4, 5) (4, 6); (5, 4) (5, 5) (5, 6); (6, 4) (6, 5) (6, 6)]      \n",
       " Tuple{Int64,Int64}[(4, 7) (4, 8) (4, 9); (5, 7) (5, 8) (5, 9); (6, 7) (6, 8) (6, 9)]      \n",
       " Tuple{Int64,Int64}[(7, 1) (7, 2) (7, 3); (8, 1) (8, 2) (8, 3); (9, 1) (9, 2) (9, 3)]      \n",
       " Tuple{Int64,Int64}[(7, 4) (7, 5) (7, 6); (8, 4) (8, 5) (8, 6); (9, 4) (9, 5) (9, 6)]      \n",
       " Tuple{Int64,Int64}[(7, 7) (7, 8) (7, 9); (8, 7) (8, 8) (8, 9); (9, 7) (9, 8) (9, 9)]      \n",
       " Tuple{Int64,Int64}[(1, 1), (1, 2), (1, 3), (1, 4), (1, 5), (1, 6), (1, 7), (1, 8), (1, 9)]\n",
       " Tuple{Int64,Int64}[(1, 1), (2, 1), (3, 1), (4, 1), (5, 1), (6, 1), (7, 1), (8, 1), (9, 1)]\n",
       " Tuple{Int64,Int64}[(2, 1), (2, 2), (2, 3), (2, 4), (2, 5), (2, 6), (2, 7), (2, 8), (2, 9)]\n",
       " Tuple{Int64,Int64}[(1, 2), (2, 2), (3, 2), (4, 2), (5, 2), (6, 2), (7, 2), (8, 2), (9, 2)]\n",
       " ⋮                                                                                         \n",
       " Tuple{Int64,Int64}[(4, 1), (4, 2), (4, 3), (4, 4), (4, 5), (4, 6), (4, 7), (4, 8), (4, 9)]\n",
       " Tuple{Int64,Int64}[(1, 4), (2, 4), (3, 4), (4, 4), (5, 4), (6, 4), (7, 4), (8, 4), (9, 4)]\n",
       " Tuple{Int64,Int64}[(5, 1), (5, 2), (5, 3), (5, 4), (5, 5), (5, 6), (5, 7), (5, 8), (5, 9)]\n",
       " Tuple{Int64,Int64}[(1, 5), (2, 5), (3, 5), (4, 5), (5, 5), (6, 5), (7, 5), (8, 5), (9, 5)]\n",
       " Tuple{Int64,Int64}[(6, 1), (6, 2), (6, 3), (6, 4), (6, 5), (6, 6), (6, 7), (6, 8), (6, 9)]\n",
       " Tuple{Int64,Int64}[(1, 6), (2, 6), (3, 6), (4, 6), (5, 6), (6, 6), (7, 6), (8, 6), (9, 6)]\n",
       " Tuple{Int64,Int64}[(7, 1), (7, 2), (7, 3), (7, 4), (7, 5), (7, 6), (7, 7), (7, 8), (7, 9)]\n",
       " Tuple{Int64,Int64}[(1, 7), (2, 7), (3, 7), (4, 7), (5, 7), (6, 7), (7, 7), (8, 7), (9, 7)]\n",
       " Tuple{Int64,Int64}[(8, 1), (8, 2), (8, 3), (8, 4), (8, 5), (8, 6), (8, 7), (8, 8), (8, 9)]\n",
       " Tuple{Int64,Int64}[(1, 8), (2, 8), (3, 8), (4, 8), (5, 8), (6, 8), (7, 8), (8, 8), (9, 8)]\n",
       " Tuple{Int64,Int64}[(9, 1), (9, 2), (9, 3), (9, 4), (9, 5), (9, 6), (9, 7), (9, 8), (9, 9)]\n",
       " Tuple{Int64,Int64}[(1, 9), (2, 9), (3, 9), (4, 9), (5, 9), (6, 9), (7, 9), (8, 9), (9, 9)]"
      ]
     },
     "execution_count": 2,
     "metadata": {},
     "output_type": "execute_result"
    }
   ],
   "source": [
    "get_blocks(3)"
   ]
  },
  {
   "cell_type": "markdown",
   "metadata": {},
   "source": [
    "## 3. Programe el PLE\n",
    "\n",
    "Programe la formulación del sudoku para una tablero $M$, de dimensiones $N=n^2$ y resuelva la siguiente instancia:\n",
    "\n",
    "```julia\n",
    "n = 3\n",
    "N = n^2\n",
    "M = [5 7 0 0 0 4 3 1 0; \n",
    "    1 3 0 5 0 0 0 2 0; \n",
    "    4 0 2 3 0 6 0 0 0; \n",
    "    9 0 7 0 6 0 1 0 0; \n",
    "    0 0 0 2 0 7 0 0 0; \n",
    "    0 0 3 0 8 0 7 0 4; \n",
    "    0 0 0 7 0 2 9 0 1; \n",
    "    0 4 0 0 0 1 0 7 8; \n",
    "    0 2 1 8 0 0 0 4 5];\n",
    "```\n",
    "\n",
    "La solución que debe obtener es\n",
    "\n",
    "```julia\n",
    "    [5 7 8 9 2 4 3 1 6; \n",
    "    1 3 6 5 7 8 4 2 9; \n",
    "    4 9 2 3 1 6 8 5 7; \n",
    "    9 5 7 4 6 3 1 8 2; \n",
    "    8 1 4 2 9 7 5 6 3; \n",
    "    2 6 3 1 8 5 7 9 4; \n",
    "    6 8 5 7 4 2 9 3 1; \n",
    "    3 4 9 6 5 1 2 7 8; \n",
    "    7 2 1 8 3 9 6 4 5]\n",
    "\n",
    "```"
   ]
  },
  {
   "cell_type": "code",
   "execution_count": 3,
   "metadata": {},
   "outputs": [],
   "source": [
    "using JuMP, Gurobi"
   ]
  },
  {
   "cell_type": "code",
   "execution_count": 13,
   "metadata": {},
   "outputs": [
    {
     "data": {
      "text/plain": [
       "sudoku_model (generic function with 1 method)"
      ]
     },
     "execution_count": 13,
     "metadata": {},
     "output_type": "execute_result"
    }
   ],
   "source": [
    "function sudoku_model(M)\n",
    "    #tamaño del tablero\n",
    "    N = size(M)[1]\n",
    "    \n",
    "    #obtener n tal que N=n^2, si n no es entero la siguiente linea arrojará un error\n",
    "    n = Integer(N^0.5) \n",
    "\n",
    "    #obtener bloques\n",
    "    Blocks = get_blocks(n)\n",
    "    \n",
    "    #crear modelo\n",
    "    model = Model()\n",
    "    #setear solver\n",
    "    set_optimizer(model, Gurobi.Optimizer)\n",
    "    #setear atributos del solver\n",
    "    set_optimizer_attributes(model, \"Presolve\"=>0, \"OutputFlag\"=>false)\n",
    "    \n",
    "    #crear variables\n",
    "    @variable(model, x[1:N,1:N, 1:N], Bin)\n",
    "    #fijamos variables \n",
    "    for i in 1:N, j in 1:N\n",
    "        if M[i,j]!=0\n",
    "            fix(x[i,j,M[i,j]], 1)\n",
    "        end\n",
    "    end\n",
    "\n",
    "    #cada elemento del tablero puede tener un elemento\n",
    "    @constraint(model, [i in 1:N, j in 1:N], sum(x[i,j,k] for k in 1:N)==1)\n",
    "\n",
    "    #todos los elementos de un bloque deben ser distintos\n",
    "    @constraint(model, [B in Blocks, k in 1:N], sum(x[i,j,k] for (i,j) in B) == 1)\n",
    "\n",
    "    #resolver\n",
    "    optimize!(model)\n",
    "    #estado de término\n",
    "    term_status = termination_status(model)\n",
    "    is_optimal = term_status == MOI.OPTIMAL\n",
    "        \n",
    "    #imprimir solución si se alcanzo el óptimo\n",
    "    if is_optimal\n",
    "        M_sol = zeros(Int64, N,N)\n",
    "        for i in 1:N, j in 1:N, k in 1:N\n",
    "           if value(model[:x][i,j,k]) == 1\n",
    "                M_sol[i,j] = k \n",
    "            end\n",
    "        end\n",
    "\n",
    "        return model, M_sol\n",
    "    end\n",
    "end"
   ]
  },
  {
   "cell_type": "code",
   "execution_count": 7,
   "metadata": {},
   "outputs": [],
   "source": [
    "n = 3\n",
    "N = n^2\n",
    "M = [5 7 0 0 0 4 3 1 0; \n",
    "    1 3 0 5 0 0 0 2 0; \n",
    "    4 0 2 3 0 6 0 0 0; \n",
    "    9 0 7 0 6 0 1 0 0; \n",
    "    0 0 0 2 0 7 0 0 0; \n",
    "    0 0 3 0 8 0 7 0 4; \n",
    "    0 0 0 7 0 2 9 0 1; \n",
    "    0 4 0 0 0 1 0 7 8; \n",
    "    0 2 1 8 0 0 0 4 5];"
   ]
  },
  {
   "cell_type": "code",
   "execution_count": 15,
   "metadata": {},
   "outputs": [
    {
     "name": "stdout",
     "output_type": "stream",
     "text": [
      "Academic license - for non-commercial use only\n",
      "Academic license - for non-commercial use only\n"
     ]
    }
   ],
   "source": [
    "model, M_sol = sudoku_model(M);"
   ]
  },
  {
   "cell_type": "code",
   "execution_count": 16,
   "metadata": {},
   "outputs": [
    {
     "data": {
      "text/plain": [
       "9×9 Array{Int64,2}:\n",
       " 5  7  8  9  2  4  3  1  6\n",
       " 1  3  6  5  7  8  4  2  9\n",
       " 4  9  2  3  1  6  8  5  7\n",
       " 9  5  7  4  6  3  1  8  2\n",
       " 8  1  4  2  9  7  5  6  3\n",
       " 2  6  3  1  8  5  7  9  4\n",
       " 6  8  5  7  4  2  9  3  1\n",
       " 3  4  9  6  5  1  2  7  8\n",
       " 7  2  1  8  3  9  6  4  5"
      ]
     },
     "execution_count": 16,
     "metadata": {},
     "output_type": "execute_result"
    }
   ],
   "source": [
    "M_sol"
   ]
  }
 ],
 "metadata": {
  "kernelspec": {
   "display_name": "Julia 1.3.1",
   "language": "julia",
   "name": "julia-1.3"
  },
  "language_info": {
   "file_extension": ".jl",
   "mimetype": "application/julia",
   "name": "julia",
   "version": "1.3.1"
  }
 },
 "nbformat": 4,
 "nbformat_minor": 2
}
