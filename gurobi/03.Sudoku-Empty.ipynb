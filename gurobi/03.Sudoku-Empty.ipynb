{
 "cells": [
  {
   "cell_type": "markdown",
   "metadata": {},
   "source": [
    "# SUDOKU\n",
    "\n",
    "Un tablero $M$ es una matriz $[N]^{N\\times N}$. Un conjunto de índices $B\\subset[N]\\times N$ es un **bloque** si todos los elementos $\\{M_{i,j}: (i,j) \\in B\\}$ son diferentes. El tablero es un **sudoku** si $N=n^{2}$ es un cuadrado perfecto y además, cada fila, cada columna y cada cuadrante son bloques. Aquí, un cuadrante es un conjunto de la forma $q^{(i,j)}=\\{(ni+a,nj+b): a,b \\in [n]\\}$ con $i,j \\in \\{0, 1, \\ldots, n-1\\}$, en otrasa palabras, los cuadrantes se obtienen al dividir el tablero $n^{2}$ por $n^{2}$ en subtableros de $n$ por $n$.\n",
    "\n",
    "En el **juego del sudoku** recibimos como entrada un sudoku incompleto, es decir, un tablero que podría tener algunos casilleros vacíos, representados con un 0. Podemos escribir un **PLE** que complete el tablero $M$ introduciendo variables binarias ${x_{ijk}: i,j,k \\in [N]}$, tal que $x_{ijk}=1$ si y solo si $M[i,j]=k$."
   ]
  },
  {
   "cell_type": "markdown",
   "metadata": {},
   "source": [
    "## 1. Escriba el conjunto lineal entero del sudoku\n",
    "Asuma como conocido todos los bloques $B$ de $M$."
   ]
  },
  {
   "cell_type": "markdown",
   "metadata": {},
   "source": []
  },
  {
   "cell_type": "markdown",
   "metadata": {},
   "source": [
    "## 2.  Obtener bloques\n",
    "Cree una función que tome como entrada $n$ y retorne un array $B$ con todos los bloques de un tablero de dimensión $n^2$."
   ]
  },
  {
   "cell_type": "code",
   "execution_count": null,
   "metadata": {},
   "outputs": [],
   "source": []
  },
  {
   "cell_type": "markdown",
   "metadata": {},
   "source": [
    "## 3. Programe el PLE\n",
    "\n",
    "Programe la formulación del sudoku para una tablero $M$, de dimensiones $N=n^2$ y resuelva la siguiente instancia:\n",
    "\n",
    "```julia\n",
    "n = 3\n",
    "N = n^2\n",
    "M = [5 7 0 0 0 4 3 1 0; \n",
    "    1 3 0 5 0 0 0 2 0; \n",
    "    4 0 2 3 0 6 0 0 0; \n",
    "    9 0 7 0 6 0 1 0 0; \n",
    "    0 0 0 2 0 7 0 0 0; \n",
    "    0 0 3 0 8 0 7 0 4; \n",
    "    0 0 0 7 0 2 9 0 1; \n",
    "    0 4 0 0 0 1 0 7 8; \n",
    "    0 2 1 8 0 0 0 4 5];\n",
    "```\n",
    "\n",
    "La solución que debe obtener es\n",
    "\n",
    "```julia\n",
    "    [5 7 8 9 2 4 3 1 6; \n",
    "    1 3 6 5 7 8 4 2 9; \n",
    "    4 9 2 3 1 6 8 5 7; \n",
    "    9 5 7 4 6 3 1 8 2; \n",
    "    8 1 4 2 9 7 5 6 3; \n",
    "    2 6 3 1 8 5 7 9 4; \n",
    "    6 8 5 7 4 2 9 3 1; \n",
    "    3 4 9 6 5 1 2 7 8; \n",
    "    7 2 1 8 3 9 6 4 5]\n",
    "\n",
    "```"
   ]
  },
  {
   "cell_type": "code",
   "execution_count": null,
   "metadata": {},
   "outputs": [],
   "source": [
    "using JuMP, Gurobi"
   ]
  },
  {
   "cell_type": "code",
   "execution_count": null,
   "metadata": {},
   "outputs": [],
   "source": [
    "model, M_sol = sudoku_model(M);"
   ]
  }
 ],
 "metadata": {
  "kernelspec": {
   "display_name": "Julia 1.3.1",
   "language": "julia",
   "name": "julia-1.3"
  },
  "language_info": {
   "file_extension": ".jl",
   "mimetype": "application/julia",
   "name": "julia",
   "version": "1.3.1"
  }
 },
 "nbformat": 4,
 "nbformat_minor": 2
}
