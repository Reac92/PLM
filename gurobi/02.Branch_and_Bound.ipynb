{
 "cells": [
  {
   "cell_type": "markdown",
   "metadata": {},
   "source": [
    "# Branch and Bound\n",
    "## Un tutorial del curso MA4702. Universidad de Chile. 2020\n",
    "### Profesor José Soto"
   ]
  },
  {
   "cell_type": "markdown",
   "metadata": {},
   "source": [
    "\n",
    "Uno de los métodos más usados para resolver PLM y otros problemas de optimización es *branch and bound (BnB)*. Se basa en la siguiente idea: \n",
    "\n",
    "\n",
    ">  **IDEA** \n",
    ">\n",
    ">Sea $\\{S_1,\\dots, S_k\\}$ una partición del conjunto factible $S$ de un problema de optimización $z^*=\\max \\{c^Tx\\colon x\\in S\\}$.\n",
    ">\n",
    ">Si $z^*_i=\\max\\{c^Tx\\colon x\\in S_i\\}$ entonces $z^*=\\max_{i\\in [k]}z^*_i.$\n",
    "    "
   ]
  },
  {
   "cell_type": "markdown",
   "metadata": {},
   "source": [
    "BnB consiste en particionar el conjunto factible $S$ del problema original en conjuntos más pequeños y resolver luego $\\max c^Tx$ en cada subconjunto de manera recursiva. Si la recursión se pudiera llevar completamente, al final  enumeraríamos todos los puntos factibles del problema. Esta idea tiene dos problemas. Primero, si el dominio es infinito entonces esto no es posible. Segundo, incluso si el dominio es finito, esto podría ser extremadamente lento y no difiere en nada de simplemente de simple fuerza bruta. \n",
    "    La idea es que BnB no explore todo el árbol de recursión sino que guarde cotas para los subproblemas que ya ha resuelto y, usando estas cotas determinar que no necesitamos resolver ciertos subproblemas. "
   ]
  },
  {
   "cell_type": "markdown",
   "metadata": {},
   "source": [
    " En lo que sigue nos enfocaremos en PLM de la forma    \n",
    " $\\begin{aligned}\n",
    "    \\qquad (M)&\\quad \\max c^Tx\\\\\n",
    "    S&\\colon \\begin{cases}\n",
    "    Ax &\\leq b\\\\\n",
    "    x&\\in \\mathbb{Z}^E\\times \\mathbb{R}^C\n",
    "    \\end{cases}\n",
    "    \\end{aligned}$\n",
    "    \n",
    " donde $A$, $b$, $c$ son racionales."
   ]
  },
  {
   "cell_type": "markdown",
   "metadata": {},
   "source": [
    "Llamemos $P=\\{x\\in \\mathbb{R}^{E+ C}, Ax\\leq b\\}$ a la relajación lineal natural de $S$. Tenemos $S \\subseteq P.$  Como los datos son racionales tenemos que el programa lineal relajado\n",
    "\n",
    " $\\begin{aligned}\n",
    "    \\qquad (L)&\\quad \\max c^Tx\\\\\n",
    "    P&\\colon \\begin{cases}\n",
    "    Ax &\\leq b\\\\\n",
    "    x&\\in \\mathbb{R}^{E\\cup C}\n",
    "    \\end{cases}\n",
    "    \\end{aligned}$\n",
    "    \n",
    "    \n",
    "es o bien **infactible**, o bien **factible no acotado** o bien **factible acotado** con solución óptima $\\bar{x}\\in P$ racional. En este caso llamamos $\\bar{z}=c^T\\bar{x}$ a su valor.\n",
    "    "
   ]
  },
  {
   "cell_type": "markdown",
   "metadata": {},
   "source": [
    "Llamemos $(M_0)$ al problema inicial dado y **pediremos que $(P_0)$ sea factible acotado**. (Lo pedimos pues  BnB *a secas* no es capaz de lidiar con problemas con relajación no acotada en la dirección de optimización)\n",
    "\n",
    "Para resolver $(M_0)$ se construye **iterativamente** un árbol $\\mathcal{T}$cuyos nodos son de la forma $(M,B,s)$ con $(M)$ un subproblema de $(M_0)$, $B$ una cota superior (optimista) del valor de $(M_0)$, y $s$ un **status** que puede ser **activo**, **ramificado**, **infactible**, **dominado** o **entero**. Tanto la cota como el status de un nodo puede cambiar a lo largo del algoritmo."
   ]
  },
  {
   "cell_type": "markdown",
   "metadata": {},
   "source": [
    "En el árbol  siempre se tendrá que **la unión de los dominios de las hojas** es el **dominio** de la raíz. Además se mantiene globalmente una solución factible (inicialmente nula) $x^*$ llamada **incumbente** que resulta ser la mejor solución encontrada hasta el momento y $z^*=c^Tx^*$ su valor (también llamada **mejor cota inferior**).\n",
    "    Inicialmente, el nodo raíz es $(M_0,B_0,\\text{activo})$ donde $M_0$ es el PLM original y $B_0$ es el valor $\\bar{z}$ de su relajación $L_0$. Además, $x^*$ es nulo y $z^*=-\\infty$. Durante el algoritmo BnB hay 2 procesos importantes: la **creación de un nodo** y la **ramificación de un nodo activo**."
   ]
  },
  {
   "cell_type": "markdown",
   "metadata": {},
   "source": [
    "## Creación de un nodo"
   ]
  },
  {
   "cell_type": "markdown",
   "metadata": {},
   "source": [
    "Algoritmo: Creación de un nodo $(M)$\n",
    "1. Resolver la relajación lineal $(P)$ de $(M)$ \n",
    "2. Si $(P)$ es infactible, **return** $(M,-\\infty, \\text{infactible})$\n",
    "3. Si el óptimo $\\bar{x}$ (con valor $\\bar{z}=c^T\\bar{x}$) de $(P)$  es factible en $(M)$ entonces\n",
    "    1. Si $\\bar{z}\\leq \\bar{z}^*$, **return** $(M,\\bar{z}, \\text{entero})$\n",
    "    2. Si $\\bar{z}> \\bar{z}^*$, entonces $x^*\\gets \\bar{x}, z^*\\gets \\bar{z}$, **return** $(M,\\bar{z},\\text{entero})$ // actualizando incumbente\n",
    "4. Si el óptimo $\\bar{x}$ (con valor $\\bar{z}=c^T\\bar{x}$) de $(P)$  es infactible en $(M)$ entonces\n",
    "    1. Si $\\bar{z}\\leq \\bar{z}^*$, **return** $(M,\\bar{z}, \\text{dominado})$\n",
    "    2. Si $\\bar{z}> \\bar{z}^*$, **return** $(M,\\bar{z}, \\text{activo})$"
   ]
  },
  {
   "cell_type": "markdown",
   "metadata": {},
   "source": [
    "  \n",
    "    Notamos que si un nodo se declara entero, entonces conocemos su mejor valor factible. Si un nodo se declara dominado en su dominio $S$ no pueden haber soluciones enteras mejores que el incumbente, por lo que no es necesario seguir procesándolo, al igual que si el nodo se declara infactible. Los únicos problemas que podrían tener soluciones enteras mejores que el incumbente actual son aquellos que están activos."
   ]
  },
  {
   "cell_type": "markdown",
   "metadata": {},
   "source": [
    "## Ramificación de un nodo activo"
   ]
  },
  {
   "cell_type": "markdown",
   "metadata": {},
   "source": [
    "Algoritmo: Ramificación de un nodo $(M, B(M), \\text{activo})$\n",
    "1. Determinar $k\\geq 2$ subproblemas $(M_i)$ cuyos dominios particionen el dominio de $(M)$\n",
    "2. Crear un nodo $(M_i)$ para cada subproblema y colgarlo como hijo de $(M)$\n",
    "3. Declarar el status de $M$ como ramificado."
   ]
  },
  {
   "cell_type": "markdown",
   "metadata": {},
   "source": [
    "    Hay varias formas de ramificar un nodo. Una forma estándar y simple es hacer **branching en una variable**\n",
    "    \n",
    "   ### Branching en una variable $x_k$ en el nodo $(M)$\n",
    "    \n",
    "   Como el óptimo $\\bar{x}\\in P$ de $(L)$ no es factible en $(M)$ debe haber una coordenada $k\\in E$ tal que la variable $\\bar{x}_k$ es fraccional (pero que debería ser entera en $(M)$). Podemos **elegir** una coordenada y definir entonces dos PLM nuevos $(M_1)$ y $(M_2)$ como sigue:\n",
    "    \\begin{align*}\n",
    "    S_1&=S\\cap \\{x\\colon x_k \\leq \\lfloor \\bar{x}_k \\rfloor\\}. &S_2&=S\\cap \\{x\\colon x_k \\geq \\lceil \\bar{x}_k \\rceil\\}.\\\\\n",
    "    P_1&= P_0 \\cap \\{x\\colon x_k \\leq \\lfloor \\bar{x}_k \\rfloor\\}. &P_2&= P_0 \\cap \\{x\\colon x_k \\geq \\lceil \\bar{x}_k \\rceil\\}.\\\\\n",
    "    (M_1)&\\colon \\max\\{c^Tx\\colon x\\in S_1\\}. & (M_2)&\\colon \\max\\{c^Tx\\colon x\\in S_2\\}.\\\\\n",
    "    (L_1)&\\colon \\max\\{c^Tx\\colon x\\in P_1\\}. & (L_2)&\\colon \\max\\{c^Tx\\colon x\\in P_2\\}.\n",
    "    \\end{align*}\n",
    "    "
   ]
  },
  {
   "cell_type": "markdown",
   "metadata": {},
   "source": [
    "Ahora estamos listos para escribir el algoritmo de BnB completo. Como BnB es un método genérico hay algunas instrucciones que no están completamente descritas. \n",
    "    \n",
    "    \n",
    "Algoritmo: Branch and Bound\n",
    "\n",
    "Entrada: Un PLM $(M_0)$ **racional** con relajación $(L_0)$ factible acotada.\n",
    "1. $x^*\\gets *null*$, crear nodo $(M_0)$ como raíz del árbol $\\mathcal{T}$.\n",
    "2. Mientras existan nodos activos en $\\mathcal{T}$\n",
    "    1. Si se ha alcanzado un criterio de terminación temprana *PARAR*.\n",
    "    2. *ELEGIR* un nodo activo $(M,B,\\text{activo})$ y ramificarlo.\n",
    "    3. Actualizar las cotas $B(M')$ para cada nodo $(M')$ en el camino entre $(M)$ y la raíz $(M_0)$, i.e.:\n",
    "        1. $B(M')\\gets \\min\\{B(M'), \\max\\{B(\\tilde{M})\\colon (\\tilde{M}) \\text{ es hijo de } (M')\\}\\}\\}$\n",
    "    4. Si el incumbente cambió, actualizar todos los nodos activos que ahora estén dominados, i.e.:\n",
    "        1. Declarar todo $(M',B',\\text{activo})$ con $B'\\leq z^*$ como dominado.\n",
    "3. **Return** $x^*$.\n",
    "    \t"
   ]
  },
  {
   "cell_type": "markdown",
   "metadata": {},
   "source": [
    "> **Observación importante**: Los dominios de los PLM asociados a nodos ACTIVOS **particionan** el dominio del PLM original en todo momento"
   ]
  },
  {
   "cell_type": "markdown",
   "metadata": {},
   "source": [
    "Discutiremos más adelante posibles criterios de terminación temprana. Pero si en algún minuto necesitamos terminar, entonces observamos que el valor óptimo de $(M_0)$ siempre está en $[z^*, B(M_0)]$. \n",
    "\n",
    "La razón $\\frac{B(M_0)-z^*}{z^*}$ se suele llamar el **GAP de resolución** (en dicho momento). Hagamos un ejemplo concreto de BnB usando solo branchings por variables. Luego de ese ejemplo daremos varias observaciones importantes.\n",
    "\n",
    "\n",
    "\n",
    "\n",
    "\n"
   ]
  },
  {
   "cell_type": "markdown",
   "metadata": {},
   "source": []
  },
  {
   "cell_type": "markdown",
   "metadata": {},
   "source": [
    "# EJEMPLO"
   ]
  },
  {
   "cell_type": "markdown",
   "metadata": {},
   "source": [
    "(El árbol de branch and bound está disponible en ucursos)"
   ]
  },
  {
   "cell_type": "markdown",
   "metadata": {},
   "source": [
    " \\begin{align*}\n",
    "    M_0&:\\quad \t\\max 3x+5y\\\\\n",
    "    S_0&:\\quad \\begin{cases}\n",
    "    20y+9x&\\leq 74\\\\\n",
    "    25y+18x&\\leq 105\\\\\n",
    "    x,y&\\geq 0\\\\\n",
    "    x,y&\\in \\mathbb{Z}\n",
    "    \\end{cases}\n",
    "    \\end{align*}"
   ]
  },
  {
   "cell_type": "markdown",
   "metadata": {},
   "source": [
    "Dibujemos el área factible para entender el PL un poco más antes de partir."
   ]
  },
  {
   "cell_type": "code",
   "execution_count": null,
   "metadata": {},
   "outputs": [],
   "source": [
    "#using Pkg\n",
    "#Pkg.add(\"Plots\")\n",
    "#Pkg.add(\"Plotly\")\n",
    "using Plots\n",
    "plotly()\n",
    "f(x) = (74-9x)/20\n",
    "g(x) = (105-18x)/25\n",
    "X = [0,6]\n",
    "\n",
    "plot(X, [f,g], fill = (0, 0.5, :auto), leg=false)\n",
    "plot!([0, 1], [0, 5/3], lw=3)\n",
    "\n",
    "annotate!(2, 2, \"S0\", :color, arrow=3)"
   ]
  },
  {
   "cell_type": "markdown",
   "metadata": {},
   "source": [
    "El área café es el área factible $P_0$ de $(M_0)$ y buscamos la mejor solución entera.  Usemos Gurobi para resolver la relajación del problema $(M_0)$. Para esto ejecutemos el siguiente código."
   ]
  },
  {
   "cell_type": "code",
   "execution_count": null,
   "metadata": {},
   "outputs": [],
   "source": [
    "using JuMP, Gurobi"
   ]
  },
  {
   "cell_type": "code",
   "execution_count": null,
   "metadata": {},
   "outputs": [],
   "source": [
    "#Creamos el objeto modelo\n",
    "modelo= Model()\n",
    "\n",
    "#Le indicamos a JuMP que el solver a utilizar es Gurobi y eliminamos presolver\n",
    "set_optimizer(modelo, Gurobi.Optimizer)\n",
    "set_optimizer_attributes(modelo, \"Presolve\" => 0, \"OutputFlag\" => 0) \n",
    "\n",
    "#declaración de variables de decisión\n",
    "@variable(modelo, x>=0)\n",
    "@variable(modelo, y>=0)\n",
    "\n",
    "#restricciones\n",
    "@constraint(modelo,rest1, 20y + 9x<=74)\n",
    "@constraint(modelo, rest2, 25y+ 18x<=105)\n",
    "\n",
    "#función objetivo\n",
    "@objective(modelo, Max, 3x+5y)"
   ]
  },
  {
   "cell_type": "code",
   "execution_count": null,
   "metadata": {},
   "outputs": [],
   "source": [
    "#resolver (CUIDADO, tenemos outputflag 0)\n",
    "\n",
    "optimize!(modelo)\n",
    "termination_status(modelo)"
   ]
  },
  {
   "cell_type": "code",
   "execution_count": null,
   "metadata": {},
   "outputs": [],
   "source": [
    "#Solucion encontrada: imprimir\n",
    "x0=value(modelo[:x])\n",
    "y0=value(modelo[:y])\n",
    "z0=objective_value(modelo)\n",
    "\n",
    "println(\"z0=\",z0,\" x0=\", x0,\" y0=\", y0)"
   ]
  },
  {
   "cell_type": "markdown",
   "metadata": {},
   "source": [
    " Al resolver la relajación lineal anterior, encontramos que el óptimo del PL asociado es $$p_0=(x_0,y_0)\\approx (1.8518, 2.866), z_0\\approx 19.888.$$"
   ]
  },
  {
   "cell_type": "code",
   "execution_count": null,
   "metadata": {},
   "outputs": [],
   "source": [
    "#Agregar el punto encontrado al grafico\n",
    "scatter!([x0],[y0])"
   ]
  },
  {
   "cell_type": "markdown",
   "metadata": {},
   "source": [
    "Como el punto no es entero al crear el nodo $(M_0)$ en el árbol, lo debemos marcar como activo en el árbol BnB.\n",
    "\n",
    "Como ambas coordenadas de $(x_0,y_0)$ son fraccionales podemos elegir una, digamos $x$ y **ramificar** de acuerdo a dicha variable, creando dos problemas $M_1$ y $M_2$, con conjuntos factibles \n",
    "$$S_1=S_0\\cap \\{x\\leq \\lfloor x_0\\rfloor\\}$$\n",
    "\n",
    "y\n",
    "\n",
    "$$S_1=S_0\\cap \\{x\\geq \\lceil x_0\\rceil\\}.$$ \n",
    "    \n"
   ]
  },
  {
   "cell_type": "markdown",
   "metadata": {},
   "source": [
    " \\begin{align*}\n",
    " M_1&:\\quad \t\\max 3x+5y & M_2&:\\quad \t\\max 3x+5y\\\\ \n",
    " S_1&:\\quad \\begin{cases}\n",
    " 20y+9x&\\leq 74\\\\\n",
    " 25y+18x&\\leq 105\\\\\n",
    " x&\\leq 1\\\\\n",
    " x,y&\\geq 0\\\\\n",
    " x,y&\\in \\mathbb{Z}\\end{cases}&S_2&:\\quad \\begin{cases}\n",
    " 20y+9x&\\leq 74\\\\\n",
    " 25y+18x&\\leq 105\\\\\n",
    " x&\\geq 2\\\\\n",
    " x,y&\\geq 0\\\\\n",
    " x,y&\\in \\mathbb{Z}\\end{cases}\n",
    " \\end{align*}"
   ]
  },
  {
   "cell_type": "markdown",
   "metadata": {},
   "source": [
    "Creemos entonces los nodos asociados a $(M_1)$ y $(M_2)$, resolviendo sus programas lineales y viendo en que caso nos encontramos"
   ]
  },
  {
   "cell_type": "code",
   "execution_count": null,
   "metadata": {},
   "outputs": [],
   "source": [
    "#Primero resolvemos M1. M1 es igual a M0 solo que agregamos la cota x<=1\n",
    "set_upper_bound(modelo[:x], 1) \n",
    "\n",
    "#mirar modelo\n",
    "modelo"
   ]
  },
  {
   "cell_type": "code",
   "execution_count": null,
   "metadata": {},
   "outputs": [],
   "source": [
    "#resolver\n",
    "optimize!(modelo)\n",
    "termination_status(modelo)"
   ]
  },
  {
   "cell_type": "code",
   "execution_count": null,
   "metadata": {},
   "outputs": [],
   "source": [
    "x1=value(modelo[:x])\n",
    "y1=value(modelo[:y])\n",
    "z1=objective_value(modelo)\n",
    "\n",
    "println(\"z1=\",z1,\" x1=\", x1,\" y1=\", y1)"
   ]
  },
  {
   "cell_type": "code",
   "execution_count": null,
   "metadata": {},
   "outputs": [],
   "source": [
    "#Ahora resolvamos el modelo 2. Debemos cambiar 0<=x<=1 por x>=2\n",
    "delete_upper_bound(modelo[:x]) \n",
    "set_lower_bound(modelo[:x], 2)\n",
    "\n",
    "#mirar modelo\n",
    "modelo\n"
   ]
  },
  {
   "cell_type": "code",
   "execution_count": null,
   "metadata": {},
   "outputs": [],
   "source": [
    "#resolver\n",
    "optimize!(modelo)\n",
    "termination_status(modelo)\n"
   ]
  },
  {
   "cell_type": "code",
   "execution_count": null,
   "metadata": {},
   "outputs": [],
   "source": [
    "x2=value(modelo[:x])\n",
    "y2=value(modelo[:y])\n",
    "z2=objective_value(modelo)\n",
    "\n",
    "println(\"z2=\",z2,\" x2=\", x2,\" y2=\", y2)"
   ]
  },
  {
   "cell_type": "markdown",
   "metadata": {},
   "source": [
    "  La solución óptima de la relajación de  $M_1$ es $(x_1,y_1)=(1;3.25)$ de valor $z_1=19.25$, y la solución óptima de la relajación de $M_2$ es $(x_2,y_2)=(2;2.76)$ de valor $z_2=19.8$. Luego ambos nodos se crean activos. Más aún la cota de $M_0$ se actualiza a $\\max\\{19.25,19.8\\}=19.8$."
   ]
  },
  {
   "cell_type": "code",
   "execution_count": null,
   "metadata": {},
   "outputs": [],
   "source": [
    "#Rehacemos el plot anterior\n",
    "f(x) = (74-9x)/20\n",
    "g(x) = (105-18x)/25\n",
    "X = [0,6]\n",
    "plot(X, [f,g], fill = (0, 0.5, :auto), leg=false)\n",
    "\n",
    "#zona x<1\n",
    "plot!([0, 0, 1, 1], [0, 4, 4, 0], fill=(0, 0.5, :auto))\n",
    "annotate!(0.5, 2, \"S1\", :color)\n",
    "\n",
    "#zona x>2\n",
    "plot!([2, 2, 6, 6], [0, 4, 4, 0], fill=(0, 0.5, :auto))\n",
    "annotate!(3, 1, \"S2\", :color)\n",
    "\n",
    "#puntos encontrados\n",
    "scatter!([x0, x1, x2],[y0,y1,y2])\n"
   ]
  },
  {
   "cell_type": "markdown",
   "metadata": {},
   "source": [
    "El area S1 es el dominio de M1 y el triangulo S2 es el dominio de M2"
   ]
  },
  {
   "cell_type": "markdown",
   "metadata": {},
   "source": [
    " Resulta útil anotar en las aristas del árbol que restricciones hemos agregado en cada problema. Ahora hay 2 nodos activos en el árbol y podemos elegir cualquiera para ramificar. La solución $(x_1,y_1)$ tiene variable $y$ fraccional. Ramifiquemos $M_1$ en dos problemas $M_3$ y $M_4$ de acuerdo a si $y\\leq 3$ o si $y\\geq 4$. Obtenemos:"
   ]
  },
  {
   "cell_type": "code",
   "execution_count": null,
   "metadata": {},
   "outputs": [],
   "source": [
    "#Modelo M3\n",
    "set_lower_bound(modelo[:x],0)\n",
    "set_upper_bound(modelo[:x],1) \n",
    "set_upper_bound(modelo[:y],3) \n",
    "\n",
    "#mirar modelo\n",
    "modelo"
   ]
  },
  {
   "cell_type": "code",
   "execution_count": null,
   "metadata": {},
   "outputs": [],
   "source": [
    "#resolver\n",
    "optimize!(modelo)\n",
    "termination_status(modelo)"
   ]
  },
  {
   "cell_type": "markdown",
   "metadata": {},
   "source": [
    "¡Ojo! La solución de este PL es entera (luego el nodo asociado a M3 se declarará entero). Además, este es nuestro primer incumbente finito."
   ]
  },
  {
   "cell_type": "code",
   "execution_count": null,
   "metadata": {},
   "outputs": [],
   "source": [
    "x3=value(modelo[:x])\n",
    "y3=value(modelo[:y])\n",
    "z3=objective_value(modelo)\n",
    "\n",
    "println(\"z3=\",z3,\" x3=\", x3,\" y3=\", y3)"
   ]
  },
  {
   "cell_type": "code",
   "execution_count": null,
   "metadata": {},
   "outputs": [],
   "source": [
    "#Ahora resolvemos M4\n",
    "delete_upper_bound(modelo[:y])\n",
    "set_lower_bound(modelo[:y],4) \n",
    "\n",
    "#mirar modelo\n",
    "modelo"
   ]
  },
  {
   "cell_type": "code",
   "execution_count": null,
   "metadata": {},
   "outputs": [],
   "source": [
    "#resolver\n",
    "optimize!(modelo)\n",
    "termination_status(modelo)"
   ]
  },
  {
   "cell_type": "markdown",
   "metadata": {},
   "source": [
    "¡El modelo M4 es infactible!"
   ]
  },
  {
   "cell_type": "code",
   "execution_count": null,
   "metadata": {},
   "outputs": [],
   "source": [
    "#Hagamos el grafico de nuevo\n",
    "f(x) = (74-9x)/20\n",
    "g(x) = (105-18x)/25\n",
    "X = [0,6]\n",
    "plot(X, [f,g], fill = (0, 0.5, :auto), leg=false)\n",
    "\n",
    "#zona x<=1,y<=3\n",
    "plot!([0, 0, 1, 1], [0, 3, 3, 0], fill=(0, 0.5, :auto))\n",
    "annotate!(0.5, 1.5, \"S3\", :color)\n",
    "\n",
    "#zona x>=2\n",
    "plot!([2, 2, 6, 6], [0, 4, 4, 0], fill=(0, 0.5, :auto))\n",
    "annotate!(3, 1, \"S2\", :color)\n",
    "\n",
    "#puntos encontrados\n",
    "scatter!([x0, x1, x2, x3],[y0,y1,y2, y3])\n"
   ]
  },
  {
   "cell_type": "markdown",
   "metadata": {},
   "source": [
    "La solución de la relajación de $M_3$ es entera $(x_3,y_3)=(1,2)$ con $z_3=18$. Por lo que $M_3$ se declara entero y además, $(x_3,y_3)$ se transforma en incumbente (actualizando también $z^*$). \n",
    "\n",
    "Mientras tanto la relajación de $M_4$ es infactible, por lo que su cota es $-\\infty$. Actualizamos la cota superior de $M_1$ a $18$, mientras que la cota de $M_0$ se mantiene.\n"
   ]
  },
  {
   "cell_type": "markdown",
   "metadata": {},
   "source": [
    "\n",
    "Como tenemos incumbente y cota, el **gap** de nuestra solución actual  es $\\frac{19.8-18}{18}=\\frac{1.8}{18}=0.1=10\\%$. Solo queda $M_2$ activo, lo ramificamos en $M_5$ y $M_6$, donde $y\\leq 2$ o $y\\geq3$ respectivamente. "
   ]
  },
  {
   "cell_type": "code",
   "execution_count": null,
   "metadata": {},
   "outputs": [],
   "source": [
    "#Modelo M5\n",
    "set_lower_bound(modelo[:x],2)\n",
    "delete_upper_bound(modelo[:x])\n",
    "set_upper_bound(modelo[:y],2) \n",
    "set_lower_bound(modelo[:y],0)\n",
    "modelo\n"
   ]
  },
  {
   "cell_type": "code",
   "execution_count": null,
   "metadata": {},
   "outputs": [],
   "source": [
    "#resolver\n",
    "optimize!(modelo)\n",
    "termination_status(modelo)"
   ]
  },
  {
   "cell_type": "code",
   "execution_count": null,
   "metadata": {},
   "outputs": [],
   "source": [
    "x5=value(modelo[:x])\n",
    "y5=value(modelo[:y])\n",
    "z5=objective_value(modelo)\n",
    "\n",
    "println(\"z5=\",z5,\" x5=\", x5,\" y5=\", y5)"
   ]
  },
  {
   "cell_type": "code",
   "execution_count": null,
   "metadata": {},
   "outputs": [],
   "source": [
    "#Modelo M6\n",
    "delete_upper_bound(modelo[:y])\n",
    "set_lower_bound(modelo[:y],3) \n",
    "\n",
    "modelo"
   ]
  },
  {
   "cell_type": "code",
   "execution_count": null,
   "metadata": {},
   "outputs": [],
   "source": [
    "#resolver\n",
    "optimize!(modelo)\n",
    "termination_status(modelo)"
   ]
  },
  {
   "cell_type": "markdown",
   "metadata": {},
   "source": [
    "M6 infactible."
   ]
  },
  {
   "cell_type": "code",
   "execution_count": null,
   "metadata": {},
   "outputs": [],
   "source": [
    "#Hagamos el grafico de nuevo\n",
    "f(x) = (74-9x)/20\n",
    "g(x) = (105-18x)/25\n",
    "X = [0,6]\n",
    "plot(X, [f,g], fill = (0, 0.5, :auto), leg=false)\n",
    "\n",
    "\n",
    "#zona x<=1,y<=3\n",
    "plot!([0, 0, 1, 1], [0, 3, 3, 0], fill=(0, 0.5, :auto))\n",
    "annotate!(0.5, 1.5, \"S3\", :color)\n",
    "\n",
    "#zona x>=2, y<=2\n",
    "plot!([2, 2, 6, 6], [0, 2, 2, 0], fill=(0, 0.5, :auto))\n",
    "annotate!(3, 1, \"S5\", :color)\n",
    "\n",
    "#zona y<=3\n",
    "plot!([0, 0, 1, 1], [0, 3, 3, 0], fill=(0, 0.5, :auto))\n",
    "annotate!(0.5, 1.5, \"S3\", :color)\n",
    "\n",
    "\n",
    "#puntos encontrados\n",
    "scatter!([x0, x1, x2, x3,x5],[y0,y1,y2, y3,y5])\n"
   ]
  },
  {
   "cell_type": "markdown",
   "metadata": {},
   "source": [
    " Notamos que $M_6$ es infactible, y la relajación de $M_5$ tiene solución $(3.0555;2)$ con valor $z_5=19.1667$ por lo que queda activo (y podemos actualizar las cotas del árbol de BnB)."
   ]
  },
  {
   "cell_type": "markdown",
   "metadata": {},
   "source": [
    "  Nuestro gap mejoró a $(19.1667-18)/18=6.48\\%$. Nuevamente tenemos solo un nodo activo, $M_5$. Lo ramificamos en $x$, definiendo los problemas $M_7$ y $M_8$ con $x\\leq 3$ y $x\\geq 4$ respectivamente"
   ]
  },
  {
   "cell_type": "code",
   "execution_count": null,
   "metadata": {},
   "outputs": [],
   "source": [
    "#Modelo M7\n",
    "set_lower_bound(modelo[:x],0)\n",
    "set_upper_bound(modelo[:x],3)\n",
    "set_upper_bound(modelo[:y],2) \n",
    "set_lower_bound(modelo[:y],0)\n",
    "modelo\n"
   ]
  },
  {
   "cell_type": "code",
   "execution_count": null,
   "metadata": {},
   "outputs": [],
   "source": [
    "#resolver\n",
    "optimize!(modelo)\n",
    "termination_status(modelo)"
   ]
  },
  {
   "cell_type": "code",
   "execution_count": null,
   "metadata": {},
   "outputs": [],
   "source": [
    "x7=value(modelo[:x])\n",
    "y7=value(modelo[:y])\n",
    "z7=objective_value(modelo)\n",
    "\n",
    "println(\"z7=\",z7,\" x7=\", x7,\" y7=\", y7)"
   ]
  },
  {
   "cell_type": "markdown",
   "metadata": {},
   "source": [
    "¡Punto integral! (nuevo incumbente)"
   ]
  },
  {
   "cell_type": "code",
   "execution_count": null,
   "metadata": {},
   "outputs": [],
   "source": [
    "#Modelo M8\n",
    "delete_upper_bound(modelo[:x])\n",
    "set_lower_bound(modelo[:x],4)\n",
    "modelo\n"
   ]
  },
  {
   "cell_type": "code",
   "execution_count": null,
   "metadata": {},
   "outputs": [],
   "source": [
    "#resolver\n",
    "optimize!(modelo)\n",
    "termination_status(modelo)"
   ]
  },
  {
   "cell_type": "code",
   "execution_count": null,
   "metadata": {},
   "outputs": [],
   "source": [
    "x8=value(modelo[:x])\n",
    "y8=value(modelo[:y])\n",
    "z8=objective_value(modelo)\n",
    "\n",
    "println(\"z8=\",z8,\" x8=\", x8,\" y8=\", y8)"
   ]
  },
  {
   "cell_type": "code",
   "execution_count": null,
   "metadata": {},
   "outputs": [],
   "source": [
    "#Hagamos el grafico de nuevo\n",
    "f(x) = (74-9x)/20\n",
    "g(x) = (105-18x)/25\n",
    "X = [0,6]\n",
    "plot(X, [f,g], fill = (0, 0.5, :auto), leg=false)\n",
    "\n",
    "\n",
    "#zona x<=1,y<=3\n",
    "plot!([0, 0, 1, 1], [0, 3, 3, 0], fill=(0, 0.5, :auto))\n",
    "annotate!(0.5, 1.5, \"S3\", :color)\n",
    "\n",
    "#zona 2<=x<=3, y<=2\n",
    "plot!([2, 2, 3, 3], [0, 2, 2, 0], fill=(0, 0.5, :auto))\n",
    "annotate!(2.5, 1, \"S7\", :color)\n",
    "\n",
    "#zona 4<=x, y<=2\n",
    "plot!([4, 4, 6, 6], [0, 2, 2, 0], fill=(0, 0.5, :auto))\n",
    "annotate!(4.5, 0.5, \"S8\", :color)\n",
    "\n",
    "\n",
    "#puntos encontrados\n",
    "scatter!([x0, x1, x2, x3,x5, x7, x8],[y0,y1,y2, y3,y5, y7, y8])\n"
   ]
  },
  {
   "cell_type": "markdown",
   "metadata": {},
   "source": [
    " Al resolver la relajación de $M_7$ se obtiene una solución **integral** $(x_7,y_7)=(3,2)$ con $z_7=19$. Como 19 es mayor que nuestro valor incumbente actual, éste se actualiza. Por otro lado al resolver la relajación de $M_8$ se obtiene una solución fraccional $(x_8,y_8)=(4;1.32)$ con $z_8=18.6$. Pero esta vez $z_8$ es peor que el valor incumbente (19), por lo que se declara **dominado**  (o podado por cota).\n",
    "    \n",
    "    \n",
    "    Con esto hemos completado el árbol de BnB y obtenemos que la solución óptima es $(3,2)$ de valor 19."
   ]
  },
  {
   "cell_type": "markdown",
   "metadata": {},
   "source": [
    "#  Usando un solver"
   ]
  },
  {
   "cell_type": "markdown",
   "metadata": {},
   "source": [
    " Hay muchos solvers comerciales que realizan BnB de manera muy eficiente (eligen buenos nodos activos para ramificar, hacen branching en buenas variables, etc.) y de hecho aplican varias heurísticas y otros algoritmos que aceleran aún más su ejecución. Por completitud, abajo anotamos una serie de instrucciones para ejecutar GUROBI sobre nuestro modelo (y dando directrices de modo que el orden de ramificado, etc. sea el mismo que nosotros usamos en el ejemplo anterior):"
   ]
  },
  {
   "cell_type": "code",
   "execution_count": null,
   "metadata": {},
   "outputs": [],
   "source": [
    "#Recreamos el objeto modelo\n",
    "modelonuevo= Model()\n",
    "@variable(modelonuevo, x>=0)\n",
    "@variable(modelonuevo, y>=0)\n",
    "@constraint(modelonuevo, rest1, 20y + 9x<=74)\n",
    "@constraint(modelonuevo, rest2, 25y+ 18x<=105)\n",
    "\n",
    "#función objetivo\n",
    "@objective(modelonuevo, Max, 3x+5y)\n",
    "\n",
    "#declaramos las variables como enteras\n",
    "set_integer(modelonuevo[:x])\n",
    "set_integer(modelonuevo[:y])\n",
    "\n",
    "#Le indicamos a JuMP que el solver a utilizar es Gurobi y eliminamos presolver\n",
    "set_optimizer(modelonuevo, Gurobi.Optimizer)\n",
    "set_optimizer_attributes(modelonuevo, \"Presolve\" => 0, \"Heuristics\"=> 0, \"Cuts\"=> 0, \"Threads\" => 1, \"LogToConsole\" => 1, \"BranchDir\" => -1) \n",
    "\n",
    "#declaramos atributos (branch primero en x luego en y)\n",
    "MOI.set(modelonuevo, Gurobi.VariableAttribute(\"BranchPriority\"), x, 20)  \n",
    "MOI.set(modelonuevo, Gurobi.VariableAttribute(\"BranchPriority\"), y, 1)  \n",
    "\n",
    "\n",
    "#resolver\n",
    "\n",
    "optimize!(modelonuevo)\n",
    "termination_status(modelonuevo)"
   ]
  },
  {
   "cell_type": "markdown",
   "metadata": {},
   "source": [
    "Gurobi realiza un árbol de BnB parecido al nuestro, pero es más eficiente en su implementación: cada vez que un nodo se ramifica en 2 y uno de ellos es infactible o dominado, continúa bajando por el árbol (es decir no crea nuestros nodos 1, 4, 2, 6, 8) hasta que deja un par de nodos activos.\n",
    "Otros solvers realizan otras variantes de BnB. "
   ]
  },
  {
   "cell_type": "markdown",
   "metadata": {},
   "source": [
    "# Algunas consideraciones para hacer BnB eficiente"
   ]
  },
  {
   "cell_type": "markdown",
   "metadata": {},
   "source": [
    "1. **PLs similares**\n",
    "\n",
    "En general el PL $(L)$ asociado a un nodo es muy similar al PL asociado al de su padre (son solo cotas de variable extras) por lo que podemos resolver $(L)$ de manera más eficiente a partir de la solución óptima del padre usando una iteración de **simplex-dual**."
   ]
  },
  {
   "cell_type": "markdown",
   "metadata": {},
   "source": [
    "2. **Selección de nodos activos**\n",
    "    \n",
    "El rendimiento de BnB depende fuertemente de la manera como se elige el nodo activo para ramificar (cuando hay varios de estos). Aquí hay dos objetivos que compiten: (1) Encontrar rápidamente un incumbente (2) Acotar rápidamente la cota $B_0$ del nodo raíz.\n",
    "\n",
    "Algunas estrategias estándar para seleccionar nodos son \n",
    "   **Búsqueda en profundidad (DFS)**\n",
    "   \n",
    "   *Ventajas*: apunta a encontrar un incumbente rápidamente con pocos nodos. \n",
    "        \n",
    "   *Desventajas*: puede explorar un área \\emph{mala} del árbol con nodos sin buenas soluciones.\n",
    "   \n",
    "   **Desarrollar el mejor nodo (best-node)** Consiste en buscar el nodo activo $(M)$ cuya cota $(B)$ es la más alta posible. \n",
    "   \n",
    "   *Ventajas*: Las mejores soluciones integrales se deben encontrar en nodos con cotas altas, por lo que esta estrategia apunta a encontrar rápidamente buenas soluciones (o acotar rápidamente $B_0$)\n",
    "   \n",
    "   *Desventajas*: Muchos nodos deben permanecer activos por largo tiempo, provocando que se deba usar una gran cantidad de memoria.\n",
    "   \n",
    "   **Estrategias más avanzadas** Involucran crear un estimador de cuanto debería degradarse el valor de la cota $B$ en un nodo dado de acuerdo a su PL y luego elegir aquel con mayor valor estimado para la cota. En la práctica se ocupan estrategias mixtas como por ejemplo hacer DFS hasta que se encuentre un incumbente y luego seleccionar mejor nodo. \n",
    "  \n",
    "  Gurobi hace esto automáticamente (Cplex permite un poco más de control)"
   ]
  },
  {
   "cell_type": "markdown",
   "metadata": {},
   "source": [
    "3. **Selección de variable a ramificar en un nodo**  \n",
    "  Ver por ejemplo [Parámetro VarBranch de Gurobi](https://www.gurobi.com/documentation/9.0/refman/varbranch.html#parameter:VarBranch)\n",
    "        \n",
    "Puede que la solución fraccional $\\bar{x}$ del nodo que ha sido elegido tenga múltiples variables fraccionales. Una forma estándar es elegir la variable $x_j$ con $j\\in E$ más fraccional (la más cercana a 0.5).\n",
    "\n",
    "Otra alternativa llamada *strong branching* involucra resolver pequeñas variaciones del PL original para determinar cual es la variable $x_j$ cuya ramificación produce el mayor decrecimiento en la cota superior $B$ del nodo a ramificar. Esta solución es \n",
    "más cara (involucra resolver un número de PL proporcional a las variables fraccionales) pero en la práctica resulta ser útil."
   ]
  },
  {
   "cell_type": "markdown",
   "metadata": {},
   "source": [
    "4. **Criterios de término**\n",
    "\n",
    "    BnB puede tomar un tiempo prohibitivo pero podemos detener el proceso en cualquier momento y, si para entonces tenemos un incumbente, podemos retornar una solución factible y una estimación (GAP relativo) de cuan cerca de ser óptima es la solución. Criterios típicos de término temprano incluyen detener la ejecución si:\n",
    "    El tiempo de reloj excede un máximo establecido, si el número de nodos procesados excede un máximo, si la memoria necesaria excede un umbral, si el gap relativo o si el gap absoluto ($B - z^*$) es menor que una tolerancia preestablecida.\n",
    "    Ver por ejemplo los siguientes atributos en Gurobi\n",
    "\n",
    "| Atributo | Descripción \n",
    "| --- | --- | \n",
    "| BarIterLimit | Limite de iteraciones para método barrera |\n",
    "| BestBdStop | Parar si la mejor cota encontrada es mejor (menor) que el parámetro |\n",
    "| BestObjStop | Parar si el incumbente es mejor (mayor) que el parámetro |\n",
    "| Cutoff\t| Indica que no estamos interesados en soluciones peores que el parámetro |\n",
    "| IterationLimit | Limite de iteraciones de simplex |\n",
    "| NodeLimit | Limite de nodos en el BnB |\n",
    "| SolutionLimit | Limite de soluciones enteras encontradas |\n",
    "| TimeLimit | Limite de tiempo total |\n",
    "\n",
    "\n",
    "\n",
    "   \n",
    "    \n",
    "5. **Heurísticas**\n",
    "\n",
    "    En muchos casos es posible determinar buenas soluciones factibles (incumbentes) en un nodo cualquiera mediante heurísticas. Por ejemplo, podemos aplicar un algoritmo simple (como glotón o programación dinámica) para encontrar una buena solución factible antes de comenzar BnB. De este modo muchas ramas pueden ser podadas rápidamente por cota al estar dominadas. Otras heurísticas típicas pueden ser usadas en cada nodo. Por ejemplo, redondear (de alguna forma inteligente) una buena solución fraccional puede producir una buena solución factible o bien, usar las soluciones enteras que podrían aparecer mientras se ejecuta SIMPLEX en un nodo. Esto se puede incorporar fácilmente al algoritmo genérico de BnB que ya vimos.\n",
    "    Gurobi tiene heurísticas muy buenas incorporadas por defecto.\n",
    "    Se pueden activar / desactivar cambiando el [Parámetro Heuristics de Gurobi](https://www.gurobi.com/documentation/9.0/refman/heuristics.html#parameter:Heuristics)\n",
    "    \n",
    "    \n",
    "6. **Usar presolver**\n",
    "\n",
    "    El presolver típicamente es capaz de reducir la complejidad del modelo de manera automática (eliminando variables, restricciones, cotas innecesarias, etc.). El presolver de Gurobi está activado por defecto.\n",
    "    \n",
    "    \n",
    "    \n",
    "7. **Usar Cortes** (branch and cut)\n",
    "\n",
    "    En realidad BnB no es un buen método por si solo. Lo ideal es mejorar la formulación en cada nodo. Esto se puede hacer automáticamente mediante el uso de planos cortantes, como lo veremos más adelante.\n",
    "\n",
    "    "
   ]
  },
  {
   "cell_type": "code",
   "execution_count": null,
   "metadata": {},
   "outputs": [],
   "source": []
  }
 ],
 "metadata": {
  "kernelspec": {
   "display_name": "Julia 1.3.1",
   "language": "julia",
   "name": "julia-1.3"
  },
  "language_info": {
   "file_extension": ".jl",
   "mimetype": "application/julia",
   "name": "julia",
   "version": "1.3.1"
  }
 },
 "nbformat": 4,
 "nbformat_minor": 2
}
