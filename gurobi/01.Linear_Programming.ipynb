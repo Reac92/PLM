{
 "cells": [
  {
   "cell_type": "markdown",
   "metadata": {},
   "source": [
    "# Gurobi\n",
    "\n",
    "Gurobi es un solver de optimización comercial, incluye:\n",
    "\n",
    "- Linear programming (LP)\n",
    "- Quadratic programming (QP)\n",
    "- Quadratically constrained programming (QCP)\n",
    "- Mixed integer linear programming (MILP)\n",
    "- Mixed-integer quadratic programming (MIQP)\n",
    "- Mixed-integer quadratically constrained programming (MIQCP).\n",
    "- Non-Convex Quadratic Optimization (NCQO)\n",
    "\n",
    "Hay varias formas de programar un modelo de optimización usando Gurobi en Julia, ejemplos en:\n",
    "- https://github.com/JuliaOpt/Gurobi.jl\n",
    "\n",
    "Benchmark:\n",
    "- https://www.gurobi.com/pdfs/benchmarks.pdf\n",
    "\n",
    "Se recomienda usar Gurobi con JuMP, <a href=\"http://www.juliaopt.org/JuMP.jl/stable/\">JuMP</a> es un lenguage de optimización matemática que soporta un gran abanico de solvers."
   ]
  },
  {
   "cell_type": "code",
   "execution_count": 1,
   "metadata": {},
   "outputs": [],
   "source": [
    "#using Pkg\n",
    "#Pkg.add(PackageSpec(url=\"https://github.com/JuliaOpt/JuMP.jl/\", rev=\"master\"))\n",
    "#Pkg.add(\"Gurobi\")\n",
    "#Pkg.add(\"GLPK\") #solver\n",
    "#Pkg.add(\"Test\") #librería para testear\n",
    "#Pkg.add(\"DataFrames\")\n",
    "#Pkg.add(\"CSV\")\n",
    "using JuMP, Gurobi, GLPK, Test, DataFrames, CSV"
   ]
  },
  {
   "cell_type": "markdown",
   "metadata": {},
   "source": [
    "# 1. Simple LP"
   ]
  },
  {
   "cell_type": "markdown",
   "metadata": {},
   "source": [
    "\\begin{equation}\n",
    "\\begin{matrix}\n",
    "\\underset{x,y}{\\min} & x+y \\\\\n",
    "\\textrm{s.t.} & 50x+24y & \\leq & 2400 \\\\\n",
    "& 30x+33y & \\leq & 2100\\\\\n",
    "& x & \\geq & 45\\\\\n",
    "& y & \\geq & 5\\\\\n",
    "\\end{matrix}\n",
    "\\end{equation}"
   ]
  },
  {
   "cell_type": "markdown",
   "metadata": {},
   "source": [
    "Presolve: operaciones que realiza un solver para transformar un problema de optimización en uno equivalente más fácil de resolver."
   ]
  },
  {
   "cell_type": "code",
   "execution_count": 2,
   "metadata": {},
   "outputs": [
    {
     "name": "stdout",
     "output_type": "stream",
     "text": [
      "Academic license - for non-commercial use only\n",
      "Academic license - for non-commercial use only\n",
      "Gurobi Optimizer version 9.0.1 build v9.0.1rc0 (linux64)\n",
      "Optimize a model with 2 rows, 2 columns and 4 nonzeros\n",
      "Model fingerprint: 0x1e20dfff\n",
      "Coefficient statistics:\n",
      "  Matrix range     [2e+01, 5e+01]\n",
      "  Objective range  [1e+00, 1e+00]\n",
      "  Bounds range     [5e+00, 4e+01]\n",
      "  RHS range        [2e+03, 2e+03]\n",
      "Iteration    Objective       Primal Inf.    Dual Inf.      Time\n",
      "       0    5.0000000e+01   0.000000e+00   0.000000e+00      0s\n",
      "\n",
      "Solved in 0 iterations and 0.01 seconds\n",
      "Optimal objective  5.000000000e+01\n"
     ]
    }
   ],
   "source": [
    "#Creamos el objeto modelo\n",
    "simple_model = Model()\n",
    "\n",
    "#Le indicamos a JuMP que el solver a utilizar es Gurobi\n",
    "set_optimizer(simple_model, Gurobi.Optimizer)\n",
    "#set_optimizer(simple_model, GLPK.Optimizer) #GLPK solver\n",
    "\n",
    "#Seteamos opciones del solver, en este caso desactivamos el Presolve\n",
    "set_optimizer_attributes(simple_model, \"Presolve\" => 0) #comentar esta línea si se usa GLPK \n",
    "\n",
    "#declaración de variables de decisión\n",
    "@variable(simple_model, x>=5,  base_name=\"x\")\n",
    "@variable(simple_model, y>=45, base_name=\"y\")\n",
    "\n",
    "#restricciones, el nombre de la restricción es opcional\n",
    "@constraint(simple_model, const1, 50x + 24y<=2400)\n",
    "@constraint(simple_model, const2, 30x + 33y<=2100)\n",
    "\n",
    "#función objetivo\n",
    "@objective(simple_model, Min, x+y)\n",
    "\n",
    "#resolver\n",
    "optimize!(simple_model)"
   ]
  },
  {
   "cell_type": "code",
   "execution_count": 3,
   "metadata": {},
   "outputs": [
    {
     "data": {
      "text/latex": [
       "$$ \\begin{alignat*}{1}\\min\\quad & x + y\\\\\n",
       "\\text{Subject to} \\quad & 50 x + 24 y \\leq 2400.0\\\\\n",
       " & 30 x + 33 y \\leq 2100.0\\\\\n",
       " & x \\geq 5.0\\\\\n",
       " & y \\geq 45.0\\\\\n",
       "\\end{alignat*}\n",
       " $$"
      ],
      "text/plain": [
       "A JuMP Model\n",
       "Minimization problem with:\n",
       "Variables: 2\n",
       "Objective function type: GenericAffExpr{Float64,VariableRef}\n",
       "`GenericAffExpr{Float64,VariableRef}`-in-`MathOptInterface.LessThan{Float64}`: 2 constraints\n",
       "`VariableRef`-in-`MathOptInterface.GreaterThan{Float64}`: 2 constraints\n",
       "Model mode: AUTOMATIC\n",
       "CachingOptimizer state: ATTACHED_OPTIMIZER\n",
       "Solver name: Gurobi\n",
       "Names registered in the model: const1, const2, x, y"
      ]
     },
     "execution_count": 3,
     "metadata": {},
     "output_type": "execute_result"
    }
   ],
   "source": [
    "simple_model"
   ]
  },
  {
   "cell_type": "code",
   "execution_count": 4,
   "metadata": {},
   "outputs": [
    {
     "data": {
      "text/latex": [
       "$$ x $$"
      ],
      "text/plain": [
       "x"
      ]
     },
     "execution_count": 4,
     "metadata": {},
     "output_type": "execute_result"
    }
   ],
   "source": [
    "#acceder a una variable del modelo\n",
    "simple_model[:x]"
   ]
  },
  {
   "cell_type": "code",
   "execution_count": 5,
   "metadata": {},
   "outputs": [
    {
     "data": {
      "text/latex": [
       "$$ x $$"
      ],
      "text/plain": [
       "x"
      ]
     },
     "execution_count": 5,
     "metadata": {},
     "output_type": "execute_result"
    }
   ],
   "source": [
    "x"
   ]
  },
  {
   "cell_type": "code",
   "execution_count": 6,
   "metadata": {},
   "outputs": [
    {
     "data": {
      "text/latex": [
       "const1 : $ 50 x + 24 y \\leq 2400.0 $"
      ],
      "text/plain": [
       "const1 : 50 x + 24 y ≤ 2400.0"
      ]
     },
     "execution_count": 6,
     "metadata": {},
     "output_type": "execute_result"
    }
   ],
   "source": [
    "#acceder a una restricción del modelo\n",
    "simple_model[:const1]"
   ]
  },
  {
   "cell_type": "code",
   "execution_count": 7,
   "metadata": {},
   "outputs": [
    {
     "data": {
      "text/latex": [
       "const1 : $ 50 x + 24 y \\leq 2400.0 $"
      ],
      "text/plain": [
       "const1 : 50 x + 24 y ≤ 2400.0"
      ]
     },
     "execution_count": 7,
     "metadata": {},
     "output_type": "execute_result"
    }
   ],
   "source": [
    "const1"
   ]
  },
  {
   "cell_type": "code",
   "execution_count": 8,
   "metadata": {},
   "outputs": [
    {
     "data": {
      "text/plain": [
       "OPTIMAL::TerminationStatusCode = 1"
      ]
     },
     "execution_count": 8,
     "metadata": {},
     "output_type": "execute_result"
    }
   ],
   "source": [
    "#preguntar por qué el solver paró\n",
    "termination_status(simple_model)"
   ]
  },
  {
   "cell_type": "code",
   "execution_count": 9,
   "metadata": {},
   "outputs": [
    {
     "data": {
      "text/plain": [
       "FEASIBLE_POINT::ResultStatusCode = 1"
      ]
     },
     "execution_count": 9,
     "metadata": {},
     "output_type": "execute_result"
    }
   ],
   "source": [
    "#verifical el estado de la solución primal\n",
    "primal_status(simple_model)"
   ]
  },
  {
   "cell_type": "code",
   "execution_count": 10,
   "metadata": {},
   "outputs": [
    {
     "data": {
      "text/plain": [
       "FEASIBLE_POINT::ResultStatusCode = 1"
      ]
     },
     "execution_count": 10,
     "metadata": {},
     "output_type": "execute_result"
    }
   ],
   "source": [
    "#verifical el estado de la solución dual \n",
    "dual_status(simple_model)"
   ]
  },
  {
   "cell_type": "code",
   "execution_count": 11,
   "metadata": {},
   "outputs": [
    {
     "name": "stdout",
     "output_type": "stream",
     "text": [
      "Optimal objective: 50.0\n",
      " x = 5.0, y = 45.0\n",
      " dual const1 = 0.0, dual const2 = 0.0\n",
      " const1 = 1330.0, const2 = 1635.0\n"
     ]
    }
   ],
   "source": [
    "#Preguntar el valor óptimo, la solución primal, solución dual y valores de las restricciones.\n",
    "println(\"Optimal objective: \", objective_value(simple_model), \"\\n x = \",value(simple_model[:x]), \n",
    "    \", y = \", value(simple_model[:y]), \"\\n dual const1 = \", dual(simple_model[:const1]), \n",
    "    \", dual const2 = \", dual(simple_model[:const2]), \"\\n const1 = \", value(simple_model[:const1]), \n",
    "    \", const2 = \", value(simple_model[:const2]))"
   ]
  },
  {
   "cell_type": "code",
   "execution_count": 12,
   "metadata": {},
   "outputs": [
    {
     "name": "stdout",
     "output_type": "stream",
     "text": [
      "x tiene cota inferior? false\n",
      "Gurobi Optimizer version 9.0.1 build v9.0.1rc0 (linux64)\n",
      "Optimize a model with 2 rows, 2 columns and 4 nonzeros\n",
      "Coefficient statistics:\n",
      "  Matrix range     [2e+01, 5e+01]\n",
      "  Objective range  [1e+00, 1e+00]\n",
      "  Bounds range     [4e+01, 4e+01]\n",
      "  RHS range        [2e+03, 2e+03]\n",
      "       0      handle free variables                          0s\n",
      "\n",
      "Solved in 1 iterations and 0.00 seconds\n",
      "Unbounded model\n"
     ]
    }
   ],
   "source": [
    "#veremos que pasa si obligamos al que problema primal sea no acotado\n",
    "delete_lower_bound(simple_model[:x])#eliminamos la cota inferior de la variable\n",
    "println(\"x tiene cota inferior? \", has_lower_bound(x))\n",
    "#resolver\n",
    "optimize!(simple_model)"
   ]
  },
  {
   "cell_type": "code",
   "execution_count": 13,
   "metadata": {},
   "outputs": [
    {
     "data": {
      "text/plain": [
       "DUAL_INFEASIBLE::TerminationStatusCode = 3"
      ]
     },
     "execution_count": 13,
     "metadata": {},
     "output_type": "execute_result"
    }
   ],
   "source": [
    "termination_status(simple_model)"
   ]
  },
  {
   "cell_type": "code",
   "execution_count": 14,
   "metadata": {},
   "outputs": [
    {
     "data": {
      "text/plain": [
       "INFEASIBILITY_CERTIFICATE::ResultStatusCode = 4"
      ]
     },
     "execution_count": 14,
     "metadata": {},
     "output_type": "execute_result"
    }
   ],
   "source": [
    "primal_status(simple_model)"
   ]
  },
  {
   "cell_type": "code",
   "execution_count": 15,
   "metadata": {},
   "outputs": [
    {
     "data": {
      "text/plain": [
       "NO_SOLUTION::ResultStatusCode = 0"
      ]
     },
     "execution_count": 15,
     "metadata": {},
     "output_type": "execute_result"
    }
   ],
   "source": [
    "dual_status(simple_model)"
   ]
  },
  {
   "cell_type": "code",
   "execution_count": 16,
   "metadata": {},
   "outputs": [
    {
     "data": {
      "text/plain": [
       "-3.2e29"
      ]
     },
     "execution_count": 16,
     "metadata": {},
     "output_type": "execute_result"
    }
   ],
   "source": [
    "objective_value(simple_model) #-∞"
   ]
  },
  {
   "cell_type": "markdown",
   "metadata": {},
   "source": [
    "Como el primal es no acotado (valor óptimo = $-\\infty$) el dual es infactible."
   ]
  },
  {
   "cell_type": "markdown",
   "metadata": {},
   "source": [
    "# 2. Diet Problem\n",
    "\n",
    "Supongamos que hay $n$ diferentes comidas y $m$ diferentes nutrientes, y tenemos la siguiente tabla de contenido nutricial por cada unidad de comida:\n",
    "\n",
    "|            |  food 1  | ... |  food n  |\n",
    "|:----------:|:--------:|:---:|:--------:|\n",
    "| nutrient 1 | $a_{11}$ | ... | $a_{1n}$ |\n",
    "|   &#8942;  |  &#8942; |     |  &#8942; |\n",
    "| nutrient m | $a_{m1}$ | ... | $a_{mn}$ |\n",
    "\n",
    "Sea $A$ una matrix $mxn$ con entradas $a_{ij}$, notar que la columna $A_{j}$ representa el contenido nutricional de la comida $j$, sea $b$ un vector con los requirimientos nutricionales de una dieta ideal, sea $c$ el vector de costos de cada unidad de comida. El problema anterior se puede representar como LP en forma estándar:\n",
    "\n",
    "\\begin{equation}\n",
    "\\begin{matrix}\n",
    "\\underset{x}{\\min} & c^{´}x \\\\\n",
    "\\textrm{s.t.} & Ax = b\\\\\n",
    "& x \\geq 0\\\\\n",
    "\\end{matrix}\n",
    "\\end{equation}\n",
    "\n",
    "Es decir se busca la dieta que satisfaga los requirimientos nutricionales de una dieta ideal a costo mínimo."
   ]
  },
  {
   "cell_type": "code",
   "execution_count": 17,
   "metadata": {},
   "outputs": [],
   "source": [
    "#Creamos una instancia\n",
    "\n",
    "#nutrientes\n",
    "nutrients = [\"calorías\", \"proteína\", \"grasa\", \"carbohidratos\"]\n",
    "\n",
    "#comidas\n",
    "foods = [\"hamburguesa\", \"completo italiano\", \"papas fritas\", \"pizza\", \"fideos con salsa\",\n",
    "         \"porotos con mazamorra\", \"lentejas\", \"pastel de choclo\", \"platano\", \"leche\",\n",
    "         \"yogurt\", \"batido\"]\n",
    "\n",
    "#requerimientos dieta ideal\n",
    "b = JuMP.Containers.DenseAxisArray(\n",
    "    [\n",
    "    2000, #kcal\n",
    "    120, #proteínas [gr]\n",
    "    40, #grasas [gr]\n",
    "    250 #carbohidratos [gr] \n",
    "    ], nutrients)\n",
    "\n",
    "#vector de costos en pesos chilenos por unidad de alimento\n",
    "c = JuMP.Containers.DenseAxisArray(\n",
    "    [\n",
    "    1400, #hamburguesa\n",
    "    1450, #completo italiano\n",
    "    550, #papas fritas\n",
    "    750, #pizza\n",
    "    2500, #fideos con salsa\n",
    "    2000, #porotos con mazamorra\n",
    "    1500, #lentejas\n",
    "    3000, #pastel de choclo\n",
    "    300, #platano\n",
    "    250, #leche\n",
    "    400, #yogurt\n",
    "    600 #batido\n",
    "    ], foods)\n",
    "\n",
    "#matriz A transpuesta, (comida, nutriente [gr])\n",
    "At = JuMP.Containers.DenseAxisArray(\n",
    "    [\n",
    "    482 21 26 41; #hamburguesa \n",
    "    440 12 24 44; #completo italiano 1450\n",
    "    502 4 22 72; #papas fritas 550\n",
    "    612.5 32.5 40.1 30.4; #pizza 750\n",
    "    329 20 13 33; #fideos con salsa \n",
    "    336 14 12 43; #porotos con mazamorra\n",
    "    358.8 27 1.2 60; #lentejas\n",
    "    567 21 27 60; #pastel de choclo\n",
    "    204.2 1.9 0.6 47.8; #platano\n",
    "    71.6 9 0.4 8; #leche\n",
    "    92.4 14 0.8 7.3; #yogurt\n",
    "    230 23 0 8; #batido\n",
    "    ], foods, nutrients);"
   ]
  },
  {
   "cell_type": "code",
   "execution_count": 18,
   "metadata": {},
   "outputs": [
    {
     "data": {
      "text/plain": [
       "2000"
      ]
     },
     "execution_count": 18,
     "metadata": {},
     "output_type": "execute_result"
    }
   ],
   "source": [
    "b[\"calorías\"]"
   ]
  },
  {
   "cell_type": "code",
   "execution_count": 19,
   "metadata": {},
   "outputs": [
    {
     "data": {
      "text/plain": [
       "1400"
      ]
     },
     "execution_count": 19,
     "metadata": {},
     "output_type": "execute_result"
    }
   ],
   "source": [
    "c[\"hamburguesa\"]"
   ]
  },
  {
   "cell_type": "code",
   "execution_count": 20,
   "metadata": {},
   "outputs": [
    {
     "data": {
      "text/plain": [
       "482.0"
      ]
     },
     "execution_count": 20,
     "metadata": {},
     "output_type": "execute_result"
    }
   ],
   "source": [
    "At[\"hamburguesa\", \"calorías\"]"
   ]
  },
  {
   "cell_type": "code",
   "execution_count": 21,
   "metadata": {},
   "outputs": [
    {
     "data": {
      "text/plain": [
       "Dict{String,JuMP.Containers.DenseAxisArray} with 3 entries:\n",
       "  \"c\"  => 1-dimensional DenseAxisArray{Int64,1,...} with index sets:…\n",
       "  \"b\"  => 1-dimensional DenseAxisArray{Int64,1,...} with index sets:…\n",
       "  \"At\" => 2-dimensional DenseAxisArray{Float64,2,...} with index sets:…"
      ]
     },
     "execution_count": 21,
     "metadata": {},
     "output_type": "execute_result"
    }
   ],
   "source": [
    "#guardamos la instancia en un diccionario\n",
    "diet_data = Dict(\"b\"=>b, \"c\"=>c, \"At\"=>At)"
   ]
  },
  {
   "cell_type": "code",
   "execution_count": 22,
   "metadata": {},
   "outputs": [
    {
     "data": {
      "text/plain": [
       "diet_model (generic function with 1 method)"
      ]
     },
     "execution_count": 22,
     "metadata": {},
     "output_type": "execute_result"
    }
   ],
   "source": [
    "function diet_model(solver, diet_data, verbose)\n",
    "    \"\"\"\n",
    "    Diet model\n",
    "    Input\n",
    "    - solver: MathOptInterface.AbstractOptimizer, \n",
    "        recibe un solver de optimización, por ejemplo, Gurobi.Optimizer.\n",
    "    - diet_data: Dict{String, JuMP.Containers.DenseAxisArray}\n",
    "        recibe un diccionario de la forma {\"c\"=>c, \"b\"=>b, \"At\"=>At},\n",
    "        donde b, c y At son objetos JuMP.Containers.DenseAxisArray,\n",
    "        con dimensiones 1, 1 y 2 respectivamente. Además debe cumplirse:\n",
    "        - size(At) = (n,m), donde m = length(b), n=length(c). \n",
    "        - c>0, b>0, At>=0\n",
    "    - verbose = Bool\n",
    "        controla la verbosidad del programa.\n",
    "    Output: AbstractModel\n",
    "        retorna el objeto modelo que almacena el valor óptimo y las soluciones óptimas en caso de \n",
    "        ser alcanzadas.\n",
    "    \"\"\"\n",
    "   \n",
    "    #obtener parámetros de diet_data y guardar en variables\n",
    "    b, c, At = diet_data[\"b\"], diet_data[\"c\"], diet_data[\"At\"]\n",
    "    \n",
    "    #testear ingreso correcto de parámetros\n",
    "    @test size(At) == (length(c), length(b)) #testear dimensiones\n",
    "    #testear positividad de b,c y no negatividad de At\n",
    "    @test sum(b.data.> 0)==length(b) && sum(c.data.> 0)==length(c) && sum(At.data.>= 0)==length(At)\n",
    "    \n",
    "    #lista de comidas y nutrientes\n",
    "    foods, nutrients = At.axes\n",
    "    \n",
    "    #crear modelo y setear solver\n",
    "    model = Model(solver)\n",
    "    \n",
    "    #cantidad a consumir por comida\n",
    "    @variable(model, x[foods]>=0)\n",
    "    \n",
    "    #restricciones por nutriente, la suma de los nutrientes por alimento debe ser igual al requerimiento ideal\n",
    "    @constraint(model, [i in nutrients],\n",
    "        sum(At[j,i]*x[j] for j in foods)==b[i]\n",
    "    )\n",
    "    \n",
    "    #Minimizar costo de la dieta ideal\n",
    "    @objective(model, Min, sum(c[j]*x[j] for j in foods))\n",
    "    #Resolver\n",
    "    optimize!(model)\n",
    "    \n",
    "    #Status de término del solver\n",
    "    term_status = termination_status(model)\n",
    "    is_optimal = term_status == MOI.OPTIMAL\n",
    "    \n",
    "    if verbose\n",
    "        #Si se alcanzó el óptimo mostrar solución óptima, sino mostrar mensaje que no se alcanzó\n",
    "        if is_optimal\n",
    "            for food in foods\n",
    "                println(\"$(food) = $(value(x[food]))\")\n",
    "            end\n",
    "        else\n",
    "            println(\"El solver no encontró una solución óptima\")\n",
    "        end\n",
    "    end\n",
    "    return model\n",
    "end"
   ]
  },
  {
   "cell_type": "code",
   "execution_count": 23,
   "metadata": {},
   "outputs": [
    {
     "name": "stdout",
     "output_type": "stream",
     "text": [
      "hamburguesa = 0.0\n",
      "completo italiano = 0.0\n",
      "papas fritas = 0.0\n",
      "pizza = 0.8902237722884057\n",
      "fideos con salsa = 0.0\n",
      "porotos con mazamorra = 0.0\n",
      "lentejas = 0.0\n",
      "pastel de choclo = 0.0\n",
      "platano = 3.486625446916778\n",
      "leche = 5.525128657712165\n",
      "yogurt = 0.0\n",
      "batido = 1.5094339622641502\n"
     ]
    }
   ],
   "source": [
    "idiet_model = diet_model(GLPK.Optimizer, diet_data, true);"
   ]
  },
  {
   "cell_type": "code",
   "execution_count": 24,
   "metadata": {},
   "outputs": [
    {
     "name": "stdout",
     "output_type": "stream",
     "text": [
      "Academic license - for non-commercial use only\n",
      "Academic license - for non-commercial use only\n",
      "Gurobi Optimizer version 9.0.1 build v9.0.1rc0 (linux64)\n",
      "Optimize a model with 4 rows, 12 columns and 47 nonzeros\n",
      "Model fingerprint: 0xff66419a\n",
      "Coefficient statistics:\n",
      "  Matrix range     [4e-01, 6e+02]\n",
      "  Objective range  [2e+02, 3e+03]\n",
      "  Bounds range     [0e+00, 0e+00]\n",
      "  RHS range        [4e+01, 2e+03]\n",
      "Presolve time: 0.01s\n",
      "Presolved: 4 rows, 12 columns, 47 nonzeros\n",
      "\n",
      "Iteration    Objective       Primal Inf.    Dual Inf.      Time\n",
      "       0    2.7692308e+03   1.506731e+02   0.000000e+00      0s\n",
      "       4    4.0005980e+03   0.000000e+00   0.000000e+00      0s\n",
      "\n",
      "Solved in 4 iterations and 0.01 seconds\n",
      "Optimal objective  4.000598005e+03\n",
      "hamburguesa = 0.0\n",
      "completo italiano = 0.0\n",
      "papas fritas = 0.0\n",
      "pizza = 0.8902237722884059\n",
      "fideos con salsa = 0.0\n",
      "porotos con mazamorra = 0.0\n",
      "lentejas = 0.0\n",
      "pastel de choclo = 0.0\n",
      "platano = 3.4866254469167774\n",
      "leche = 5.525128657712159\n",
      "yogurt = 0.0\n",
      "batido = 1.5094339622641524\n"
     ]
    }
   ],
   "source": [
    "idiet_model = diet_model(Gurobi.Optimizer, diet_data, true);"
   ]
  },
  {
   "cell_type": "markdown",
   "metadata": {},
   "source": [
    "# 3. Piecewise linear function and Data fitting\n",
    "\n",
    "## Piecewise linear function\n",
    "\n",
    "Una función lineal por partes se puede representar como:\n",
    "\n",
    "$f(x) = \\underset{i=1,\\ldots,m}{max}(c_{i}^{´}+d_{i})$\n",
    "\n",
    "Donde $x, c_{i} \\in \\rm I\\!R^{n}, d_{i} \\in \\rm I\\!R,  \\forall  i=1,\\ldots,m$. Notar que esta función es convexa, de hecho se puede demostrar que el máximo de funciones convexas es convexo. \n",
    "\n",
    "Supongamos que nos enfrentamos al problema de buscar el $x$ que minimize $f(x)$:\n",
    "\n",
    "$\\underset{x}{min} \\underset{i=1,\\ldots,m}{max}(c_{i}^{´}+d_{i})$\n",
    "\n",
    "El problema anterior se puede escribir como un LP:\n",
    "\n",
    "\\begin{equation}\n",
    "\\begin{matrix}\n",
    "\\underset{x, z}{\\min} & z \\\\\n",
    "\\textrm{s.t.} & z & \\geq & c^{´}_{i}x+d_{i} & i=1,\\ldots,m\\\\\n",
    "\\end{matrix}\n",
    "\\end{equation}\n",
    "\n",
    "## Data fitting\n",
    "Supongamos que contamos con $m$ observaciones de la forma ($x_{i}, y_{i}$), $i=1,\\ldots,m$, donde $x_{i} \\in \\rm I\\!R^{n}$ y $y_{i}\\in\\rm I\\!R$, deseamos construir un modelo que prediga el valor de $y$ dado $x$. En tal caso usualmente se utiliza un modelo lineal de la forma $y=\\beta^{´}x$, donde $\\beta$ es un vector de parámetros a estimar. Sea $|y_{i}-\\beta^{´}x_{i}|$ el residuo o error de predicción en la observación $i$, generalmente se busca determinar el vector de parámetros que minimiza el error cuadrático medio, pero en este caso buscaremos el vector de parámetros que minimice el residuo más grande:\n",
    "\n",
    "$\\underset{\\beta}{min} \\underset{i=1,\\ldots,m}{max}|y_{i}-\\beta^{'}x_{i}|$\n",
    "\n",
    "Notar que la función modulo es una función lineal por partes, ya que $|x|=max\\{x,-x\\}$. El problema anterior se puede reescribir como un LP:\n",
    "\n",
    "\\begin{equation}\n",
    "\\begin{matrix}\n",
    "\\underset{\\beta, z}{\\min} & z \\\\\n",
    "\\textrm{s.t.} & y_{i}-\\beta^{'}x_{i} & \\leq z & i=1,\\ldots,m\\\\\n",
    "& -y_{i}+\\beta^{'}x_{i} & \\leq z & i=1,\\ldots, m\n",
    "\\end{matrix}\n",
    "\\end{equation}\n",
    "\n",
    "Para el ejemplo se utilizará la data `01.Housing.csv`, la base de datos posee precios de casas de algunas localidades de USA junto a un par de covariables que se correlacionan con este."
   ]
  },
  {
   "cell_type": "code",
   "execution_count": 25,
   "metadata": {},
   "outputs": [
    {
     "data": {
      "text/plain": [
       "150"
      ]
     },
     "execution_count": 25,
     "metadata": {},
     "output_type": "execute_result"
    }
   ],
   "source": [
    "#ajustar variable de entorno para ver todas las columnas del dataframe\n",
    "ENV[\"COLUMNS\"]=150"
   ]
  },
  {
   "cell_type": "code",
   "execution_count": 26,
   "metadata": {},
   "outputs": [],
   "source": [
    "df = CSV.read(\"01.Housing.csv\");"
   ]
  },
  {
   "cell_type": "code",
   "execution_count": 27,
   "metadata": {},
   "outputs": [
    {
     "data": {
      "text/html": [
       "<table class=\"data-frame\"><thead><tr><th></th><th>Avg Area Income</th><th>Avg Area House Age</th><th>Avg Area Number of Rooms</th><th>Avg Area Number of Bedrooms</th><th>Area Population</th><th>Price</th><th>bias</th></tr><tr><th></th><th>Float64</th><th>Float64</th><th>Float64</th><th>Float64</th><th>Float64</th><th>Float64</th><th>Int64</th></tr></thead><tbody><p>5 rows × 7 columns</p><tr><th>1</th><td>79545.5</td><td>5.68286</td><td>7.00919</td><td>4.09</td><td>23086.8</td><td>1.05903e6</td><td>1</td></tr><tr><th>2</th><td>79248.6</td><td>6.0029</td><td>6.73082</td><td>3.09</td><td>40173.1</td><td>1.50589e6</td><td>1</td></tr><tr><th>3</th><td>61287.1</td><td>5.86589</td><td>8.51273</td><td>5.13</td><td>36882.2</td><td>1.05899e6</td><td>1</td></tr><tr><th>4</th><td>63345.2</td><td>7.18824</td><td>5.58673</td><td>3.26</td><td>34310.2</td><td>1.26062e6</td><td>1</td></tr><tr><th>5</th><td>59982.2</td><td>5.04055</td><td>7.83939</td><td>4.23</td><td>26354.1</td><td>6.30943e5</td><td>1</td></tr></tbody></table>"
      ],
      "text/latex": [
       "\\begin{tabular}{r|ccccccc}\n",
       "\t& Avg Area Income & Avg Area House Age & Avg Area Number of Rooms & Avg Area Number of Bedrooms & Area Population & Price & bias\\\\\n",
       "\t\\hline\n",
       "\t& Float64 & Float64 & Float64 & Float64 & Float64 & Float64 & Int64\\\\\n",
       "\t\\hline\n",
       "\t1 & 79545.5 & 5.68286 & 7.00919 & 4.09 & 23086.8 & 1.05903e6 & 1 \\\\\n",
       "\t2 & 79248.6 & 6.0029 & 6.73082 & 3.09 & 40173.1 & 1.50589e6 & 1 \\\\\n",
       "\t3 & 61287.1 & 5.86589 & 8.51273 & 5.13 & 36882.2 & 1.05899e6 & 1 \\\\\n",
       "\t4 & 63345.2 & 7.18824 & 5.58673 & 3.26 & 34310.2 & 1.26062e6 & 1 \\\\\n",
       "\t5 & 59982.2 & 5.04055 & 7.83939 & 4.23 & 26354.1 & 6.30943e5 & 1 \\\\\n",
       "\\end{tabular}\n"
      ],
      "text/plain": [
       "5×7 DataFrame\n",
       "│ Row │ Avg Area Income │ Avg Area House Age │ Avg Area Number of Rooms │ Avg Area Number of Bedrooms │ Area Population │ Price     │ bias  │\n",
       "│     │ \u001b[90mFloat64\u001b[39m         │ \u001b[90mFloat64\u001b[39m            │ \u001b[90mFloat64\u001b[39m                  │ \u001b[90mFloat64\u001b[39m                     │ \u001b[90mFloat64\u001b[39m         │ \u001b[90mFloat64\u001b[39m   │ \u001b[90mInt64\u001b[39m │\n",
       "├─────┼─────────────────┼────────────────────┼──────────────────────────┼─────────────────────────────┼─────────────────┼───────────┼───────┤\n",
       "│ 1   │ 79545.5         │ 5.68286            │ 7.00919                  │ 4.09                        │ 23086.8         │ 1.05903e6 │ 1     │\n",
       "│ 2   │ 79248.6         │ 6.0029             │ 6.73082                  │ 3.09                        │ 40173.1         │ 1.50589e6 │ 1     │\n",
       "│ 3   │ 61287.1         │ 5.86589            │ 8.51273                  │ 5.13                        │ 36882.2         │ 1.05899e6 │ 1     │\n",
       "│ 4   │ 63345.2         │ 7.18824            │ 5.58673                  │ 3.26                        │ 34310.2         │ 1.26062e6 │ 1     │\n",
       "│ 5   │ 59982.2         │ 5.04055            │ 7.83939                  │ 4.23                        │ 26354.1         │ 6.30943e5 │ 1     │"
      ]
     },
     "execution_count": 27,
     "metadata": {},
     "output_type": "execute_result"
    }
   ],
   "source": [
    "#importar .csv y crear un dataframe que lo almacena\n",
    "df = CSV.read(\"01.Housing.csv\");\n",
    "df.bias = [1 for i in 1:size(df)[1]]\n",
    "#printear primeras 5 filas del dataframe\n",
    "first(df, 5)"
   ]
  },
  {
   "cell_type": "code",
   "execution_count": 28,
   "metadata": {},
   "outputs": [
    {
     "data": {
      "text/plain": [
       "6-element Array{String,1}:\n",
       " \"Avg Area Income\"            \n",
       " \"Avg Area House Age\"         \n",
       " \"Avg Area Number of Rooms\"   \n",
       " \"Avg Area Number of Bedrooms\"\n",
       " \"Area Population\"            \n",
       " \"bias\"                       "
      ]
     },
     "execution_count": 28,
     "metadata": {},
     "output_type": "execute_result"
    }
   ],
   "source": [
    "columns = String.(names(df))\n",
    "setdiff!(columns, [\"Price\"])"
   ]
  },
  {
   "cell_type": "code",
   "execution_count": 29,
   "metadata": {},
   "outputs": [
    {
     "data": {
      "text/plain": [
       "Dict{String,Array{Float64,N} where N} with 2 entries:\n",
       "  \"x\" => [79545.5 5.68286 … 23086.8 1.0; 79248.6 6.0029 … 40173.1 1.0; … ; 68001.3 5.53439 … 42625.6 1.0; 65510.6 5.99231 … 46501.3 1.0]\n",
       "  \"y\" => [1.05903e6, 1.50589e6, 1.05899e6, 1.26062e6, 6.30943e5, 1.06814e6, 1.50206e6, 1.57394e6, 7.9887e5, 1.54515e6  …  4.79501e5, 1.26372e6, 1.568…"
      ]
     },
     "execution_count": 29,
     "metadata": {},
     "output_type": "execute_result"
    }
   ],
   "source": [
    "features = [Symbol(col) for col in columns]\n",
    "target = Symbol(\"Price\")\n",
    "#vector de características\n",
    "x = convert(Matrix, df[:,features]);\n",
    "#variable objetivo a predecir\n",
    "y = df[:,target];\n",
    "#almacenamos la data en un diccionario\n",
    "data = Dict(\"x\"=>x, \"y\"=>y)"
   ]
  },
  {
   "cell_type": "code",
   "execution_count": 30,
   "metadata": {},
   "outputs": [
    {
     "data": {
      "text/plain": [
       "fit_model (generic function with 1 method)"
      ]
     },
     "execution_count": 30,
     "metadata": {},
     "output_type": "execute_result"
    }
   ],
   "source": [
    "function fit_model(solver, data, verbose)\n",
    "    \"\"\"\n",
    "    Data fitting model\n",
    "    Input\n",
    "    - solver: MathOptInterface.AbstractOptimizer, \n",
    "        recibe un solver de optimización, por ejemplo, Gurobi.Optimizer.\n",
    "    - diet_data: Dict{String, Array}\n",
    "        recibe un diccionario de la forma {\"x\"=>x, \"y\"=>y},\n",
    "        donde size(x) = (m,n) y size(y) = m\n",
    "    - verbose = Bool\n",
    "        controla la verbosidad del programa.\n",
    "    Output: AbstractModel\n",
    "        retorna el objeto modelo que almacena el valor óptimo y las soluciones óptimas en caso de \n",
    "        ser alcanzadas.\n",
    "    \"\"\"\n",
    "    #obtener datos\n",
    "    x, y = data[\"x\"], data[\"y\"]\n",
    "    m, n = size(x) \n",
    "    \n",
    "    #crear modelo\n",
    "    model = Model(solver)\n",
    "    \n",
    "    #variables\n",
    "    @variable(model, β[1:n])\n",
    "    @variable(model, z)\n",
    "    \n",
    "    #restricciones\n",
    "    for i in 1:m\n",
    "        @constraints(model, begin\n",
    "            y[i]-sum(β[j]*x[i,j] for j in 1:n)<=z\n",
    "            -y[i]+sum(β[j]*x[i,j] for j in 1:n)<=z\n",
    "        end)\n",
    "    end\n",
    "    @objective(model, Min, z)\n",
    "    \n",
    "    optimize!(model)\n",
    "    \n",
    "    #Status de término del solver\n",
    "    term_status = termination_status(model)\n",
    "    is_optimal = term_status == MOI.OPTIMAL\n",
    "    \n",
    "    if verbose\n",
    "        #Si se alcanzó el óptimo mostrar solución óptima, sino mostrar mensaje que no se alcanzó\n",
    "        if is_optimal\n",
    "            println(\"Valor óptimo: $(objective_value(model))\")\n",
    "            for j in 1:n\n",
    "                println(\"β[$(j)] = $(value(β[j]))\")\n",
    "            end\n",
    "        else\n",
    "            println(\"El solver no encontró una solución óptima\")\n",
    "        end\n",
    "    end\n",
    "    return model\n",
    "    return model\n",
    "end"
   ]
  },
  {
   "cell_type": "code",
   "execution_count": 31,
   "metadata": {},
   "outputs": [
    {
     "name": "stdout",
     "output_type": "stream",
     "text": [
      "Academic license - for non-commercial use only\n",
      "Academic license - for non-commercial use only\n",
      "Gurobi Optimizer version 9.0.1 build v9.0.1rc0 (linux64)\n",
      "Optimize a model with 10000 rows, 7 columns and 70000 nonzeros\n",
      "Model fingerprint: 0x11c32863\n",
      "Coefficient statistics:\n",
      "  Matrix range     [1e+00, 1e+05]\n",
      "  Objective range  [1e+00, 1e+00]\n",
      "  Bounds range     [0e+00, 0e+00]\n",
      "  RHS range        [2e+04, 2e+06]\n",
      "Presolve time: 0.02s\n",
      "Presolved: 7 rows, 10000 columns, 70000 nonzeros\n",
      "\n",
      "Iteration    Objective       Primal Inf.    Dual Inf.      Time\n",
      "       0   -1.2989505e+06   1.028341e+03   2.803551e+10      0s\n",
      "     152    3.2644041e+05   0.000000e+00   0.000000e+00      0s\n",
      "\n",
      "Solved in 152 iterations and 0.03 seconds\n",
      "Optimal objective  3.264404085e+05\n",
      "Valor óptimo: 326440.4084616313\n",
      "β[1] = 19.621117214360737\n",
      "β[2] = 162871.91992379463\n",
      "β[3] = 98456.2742777419\n",
      "β[4] = 10361.863959013777\n",
      "β[5] = 15.166913536089698\n",
      "β[6] = -2.3730902005351493e6\n"
     ]
    }
   ],
   "source": [
    "ifit_model = fit_model(Gurobi.Optimizer, data, true);"
   ]
  },
  {
   "cell_type": "code",
   "execution_count": 32,
   "metadata": {},
   "outputs": [
    {
     "name": "stdout",
     "output_type": "stream",
     "text": [
      "Warning: basis matrix is ill-conditioned (cond = 1.15e+13)\n",
      "Valor óptimo: 326440.4084616317\n",
      "β[1] = 19.621117214360716\n",
      "β[2] = 162871.91992379466\n",
      "β[3] = 98456.27427774173\n",
      "β[4] = 10361.863959013728\n",
      "β[5] = 15.166913536089693\n",
      "β[6] = -2.373090200535146e6\n"
     ]
    }
   ],
   "source": [
    "ifit_model = fit_model(GLPK.Optimizer, data, true);"
   ]
  },
  {
   "cell_type": "code",
   "execution_count": 33,
   "metadata": {},
   "outputs": [
    {
     "data": {
      "text/plain": [
       "6-element Array{Float64,1}:\n",
       "     19.621117214360716  \n",
       " 162871.91992379466      \n",
       "  98456.27427774173      \n",
       "  10361.863959013728     \n",
       "     15.166913536089693  \n",
       "     -2.373090200535146e6"
      ]
     },
     "execution_count": 33,
     "metadata": {},
     "output_type": "execute_result"
    }
   ],
   "source": [
    "β = [value(elem) for elem in ifit_model[:β]]"
   ]
  },
  {
   "cell_type": "code",
   "execution_count": 34,
   "metadata": {},
   "outputs": [],
   "source": [
    "residuals  = [abs(y[i]-β'*x[i,:]) for i in 1:5000];"
   ]
  },
  {
   "cell_type": "code",
   "execution_count": 35,
   "metadata": {},
   "outputs": [
    {
     "data": {
      "text/plain": [
       "true"
      ]
     },
     "execution_count": 35,
     "metadata": {},
     "output_type": "execute_result"
    }
   ],
   "source": [
    "value(ifit_model[:z]) ≈ maximum(residuals)"
   ]
  }
 ],
 "metadata": {
  "kernelspec": {
   "display_name": "Julia 1.3.1",
   "language": "julia",
   "name": "julia-1.3"
  },
  "language_info": {
   "file_extension": ".jl",
   "mimetype": "application/julia",
   "name": "julia",
   "version": "1.3.1"
  }
 },
 "nbformat": 4,
 "nbformat_minor": 2
}
